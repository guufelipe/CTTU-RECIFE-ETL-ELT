{
 "cells": [
  {
   "cell_type": "code",
   "execution_count": 1,
   "id": "105ae9a6",
   "metadata": {},
   "outputs": [],
   "source": [
    "import pandas as pd\n",
    "import os"
   ]
  },
  {
   "cell_type": "code",
   "execution_count": 2,
   "id": "83e3129b",
   "metadata": {},
   "outputs": [],
   "source": [
    "file_path_1 = \"infracoes_2023.csv\"\n",
    "file_path_2 = \"infracoes_2024.csv\"\n",
    "file_path_3 = \"infracoes_2025.csv\""
   ]
  },
  {
   "cell_type": "code",
   "execution_count": 3,
   "id": "f76b5e76",
   "metadata": {},
   "outputs": [
    {
     "name": "stderr",
     "output_type": "stream",
     "text": [
      "C:\\Users\\eduar\\AppData\\Local\\Temp\\ipykernel_11576\\3416903333.py:3: DtypeWarning: Columns (3) have mixed types. Specify dtype option on import or set low_memory=False.\n",
      "  df_3 = pd.read_csv(file_path_3, sep=';')\n"
     ]
    }
   ],
   "source": [
    "df_1 = pd.read_csv(file_path_1, sep=';')\n",
    "df_2 = pd.read_csv(file_path_2, sep=';')\n",
    "df_3 = pd.read_csv(file_path_3, sep=';')"
   ]
  },
  {
   "cell_type": "markdown",
   "id": "ef7adc6c",
   "metadata": {},
   "source": [
    "Esse erro apareceu então identificamos qual a coluna e o que estava ocorrendo nela "
   ]
  },
  {
   "cell_type": "code",
   "execution_count": 4,
   "id": "9738cb7f",
   "metadata": {},
   "outputs": [
    {
     "name": "stdout",
     "output_type": "stream",
     "text": [
      "0 datainfracao\n",
      "1 horainfracao\n",
      "2 dataimplantacao\n",
      "3 agenteequipamento\n",
      "4 infracao\n",
      "5 descricaoinfracao\n",
      "6 amparolegal\n",
      "7 localcometimento\n"
     ]
    }
   ],
   "source": [
    "for i, col in enumerate(df_3.columns):\n",
    "    print(i, col)"
   ]
  },
  {
   "cell_type": "code",
   "execution_count": 5,
   "id": "4166fb54",
   "metadata": {},
   "outputs": [
    {
     "data": {
      "text/plain": [
       "array(['Código 8 - AUTOS NO TALÃO ELETRÔNICO',\n",
       "       'Código 3 - LOMBADA ELETRÔNICA', 'Código 5 - FOTO SENSOR',\n",
       "       'Código 9 - FAIXA AZUL', 'Código 7 - ZONA AZUL TALÃO ELETRÔNICO',\n",
       "       nan], dtype=object)"
      ]
     },
     "execution_count": 5,
     "metadata": {},
     "output_type": "execute_result"
    }
   ],
   "source": [
    "df_3['agenteequipamento'].unique()"
   ]
  },
  {
   "cell_type": "markdown",
   "id": "c6bf7f58",
   "metadata": {},
   "source": [
    "Identificamos que era relacionado a  valores Nan"
   ]
  },
  {
   "cell_type": "code",
   "execution_count": 6,
   "id": "2448ba4b",
   "metadata": {},
   "outputs": [
    {
     "data": {
      "text/plain": [
       "np.int64(62784)"
      ]
     },
     "execution_count": 6,
     "metadata": {},
     "output_type": "execute_result"
    }
   ],
   "source": [
    "df_3['agenteequipamento'].isna().sum()"
   ]
  },
  {
   "cell_type": "code",
   "execution_count": 7,
   "id": "3c6f4b2c",
   "metadata": {},
   "outputs": [
    {
     "data": {
      "text/plain": [
       "datainfracao         0\n",
       "horainfracao         0\n",
       "dataimplantacao      0\n",
       "agenteequipamento    0\n",
       "infracao             0\n",
       "descricaoinfracao    0\n",
       "amparolegal          0\n",
       "localcometimento     0\n",
       "dtype: int64"
      ]
     },
     "execution_count": 7,
     "metadata": {},
     "output_type": "execute_result"
    }
   ],
   "source": [
    "df_1.isna().sum()"
   ]
  },
  {
   "cell_type": "code",
   "execution_count": 8,
   "id": "7b0beb17",
   "metadata": {},
   "outputs": [
    {
     "data": {
      "text/plain": [
       "datainfracao         0\n",
       "horainfracao         0\n",
       "dataimplantacao      0\n",
       "agenteequipamento    0\n",
       "infracao             0\n",
       "descricaoinfracao    0\n",
       "amparolegal          0\n",
       "localcometimento     0\n",
       "dtype: int64"
      ]
     },
     "execution_count": 8,
     "metadata": {},
     "output_type": "execute_result"
    }
   ],
   "source": [
    "df_2.isna().sum()"
   ]
  },
  {
   "cell_type": "code",
   "execution_count": 9,
   "id": "c87636bc",
   "metadata": {},
   "outputs": [
    {
     "data": {
      "text/plain": [
       "datainfracao             0\n",
       "horainfracao             0\n",
       "dataimplantacao          0\n",
       "agenteequipamento    62784\n",
       "infracao                 0\n",
       "descricaoinfracao        0\n",
       "amparolegal              0\n",
       "localcometimento         0\n",
       "dtype: int64"
      ]
     },
     "execution_count": 9,
     "metadata": {},
     "output_type": "execute_result"
    }
   ],
   "source": [
    "df_3.isna().sum()"
   ]
  },
  {
   "cell_type": "code",
   "execution_count": 10,
   "id": "40d58a86",
   "metadata": {},
   "outputs": [
    {
     "name": "stdout",
     "output_type": "stream",
     "text": [
      "<class 'pandas.core.frame.DataFrame'>\n",
      "RangeIndex: 488728 entries, 0 to 488727\n",
      "Data columns (total 8 columns):\n",
      " #   Column             Non-Null Count   Dtype \n",
      "---  ------             --------------   ----- \n",
      " 0   datainfracao       488728 non-null  object\n",
      " 1   horainfracao       488728 non-null  object\n",
      " 2   dataimplantacao    488728 non-null  object\n",
      " 3   agenteequipamento  488728 non-null  object\n",
      " 4   infracao           488728 non-null  int64 \n",
      " 5   descricaoinfracao  488728 non-null  object\n",
      " 6   amparolegal        488728 non-null  object\n",
      " 7   localcometimento   488728 non-null  object\n",
      "dtypes: int64(1), object(7)\n",
      "memory usage: 29.8+ MB\n"
     ]
    }
   ],
   "source": [
    "df_1.info()"
   ]
  },
  {
   "cell_type": "code",
   "execution_count": 11,
   "id": "08dbdd45",
   "metadata": {},
   "outputs": [
    {
     "name": "stdout",
     "output_type": "stream",
     "text": [
      "<class 'pandas.core.frame.DataFrame'>\n",
      "RangeIndex: 404975 entries, 0 to 404974\n",
      "Data columns (total 8 columns):\n",
      " #   Column             Non-Null Count   Dtype \n",
      "---  ------             --------------   ----- \n",
      " 0   datainfracao       404975 non-null  object\n",
      " 1   horainfracao       404975 non-null  object\n",
      " 2   dataimplantacao    404975 non-null  object\n",
      " 3   agenteequipamento  404975 non-null  object\n",
      " 4   infracao           404975 non-null  int64 \n",
      " 5   descricaoinfracao  404975 non-null  object\n",
      " 6   amparolegal        404975 non-null  object\n",
      " 7   localcometimento   404975 non-null  object\n",
      "dtypes: int64(1), object(7)\n",
      "memory usage: 24.7+ MB\n"
     ]
    }
   ],
   "source": [
    "df_2.info()"
   ]
  },
  {
   "cell_type": "code",
   "execution_count": 12,
   "id": "dad5e79c",
   "metadata": {},
   "outputs": [
    {
     "name": "stdout",
     "output_type": "stream",
     "text": [
      "<class 'pandas.core.frame.DataFrame'>\n",
      "RangeIndex: 171109 entries, 0 to 171108\n",
      "Data columns (total 8 columns):\n",
      " #   Column             Non-Null Count   Dtype \n",
      "---  ------             --------------   ----- \n",
      " 0   datainfracao       171109 non-null  object\n",
      " 1   horainfracao       171109 non-null  object\n",
      " 2   dataimplantacao    171109 non-null  object\n",
      " 3   agenteequipamento  108325 non-null  object\n",
      " 4   infracao           171109 non-null  int64 \n",
      " 5   descricaoinfracao  171109 non-null  object\n",
      " 6   amparolegal        171109 non-null  object\n",
      " 7   localcometimento   171109 non-null  object\n",
      "dtypes: int64(1), object(7)\n",
      "memory usage: 10.4+ MB\n"
     ]
    }
   ],
   "source": [
    "df_3.info()"
   ]
  },
  {
   "cell_type": "markdown",
   "id": "c50e2587",
   "metadata": {},
   "source": [
    "Como os três csv tinham o mesmo número de colunas e do mesmo tipo, tomamos a decisão de concatenar em um único dataframe e aplicar as transformações necessárias em cima dele."
   ]
  },
  {
   "cell_type": "markdown",
   "id": "621ab52e",
   "metadata": {},
   "source": [
    "### Transformando os tipos das colunas de datainfracao e dataimplantacao"
   ]
  },
  {
   "cell_type": "markdown",
   "id": "885e37e7",
   "metadata": {},
   "source": [
    "Apesar de todas a datas estarem em tipo objeto, em uma inspeção mais detalhada do csv final percebemos que o formato está diferente nos dados referentes a 2024.\n",
    "2023 = \"2023-10-26;\"\n",
    "2024 = \"06/05/2024 00:00\"\n",
    "2025 = \"2025-04-22\""
   ]
  },
  {
   "cell_type": "code",
   "execution_count": 13,
   "id": "77e60260",
   "metadata": {},
   "outputs": [
    {
     "data": {
      "text/html": [
       "<div>\n",
       "<style scoped>\n",
       "    .dataframe tbody tr th:only-of-type {\n",
       "        vertical-align: middle;\n",
       "    }\n",
       "\n",
       "    .dataframe tbody tr th {\n",
       "        vertical-align: top;\n",
       "    }\n",
       "\n",
       "    .dataframe thead th {\n",
       "        text-align: right;\n",
       "    }\n",
       "</style>\n",
       "<table border=\"1\" class=\"dataframe\">\n",
       "  <thead>\n",
       "    <tr style=\"text-align: right;\">\n",
       "      <th></th>\n",
       "      <th>datainfracao</th>\n",
       "      <th>horainfracao</th>\n",
       "      <th>dataimplantacao</th>\n",
       "      <th>agenteequipamento</th>\n",
       "      <th>infracao</th>\n",
       "      <th>descricaoinfracao</th>\n",
       "      <th>amparolegal</th>\n",
       "      <th>localcometimento</th>\n",
       "    </tr>\n",
       "  </thead>\n",
       "  <tbody>\n",
       "    <tr>\n",
       "      <th>0</th>\n",
       "      <td>2023-01-01</td>\n",
       "      <td>00:01:00</td>\n",
       "      <td>2023-01-06</td>\n",
       "      <td>Código 8 - AUTOS NO TALÃO ELETRÔNICO</td>\n",
       "      <td>7234</td>\n",
       "      <td>Quando o veículo estiver em movimento deixar d...</td>\n",
       "      <td>Art. 250, Inc. I, alínea a</td>\n",
       "      <td>RUA RIBEIRO DE BRITO, SOB O SEMAFORO N. 155   ...</td>\n",
       "    </tr>\n",
       "    <tr>\n",
       "      <th>1</th>\n",
       "      <td>2023-01-01</td>\n",
       "      <td>00:27:00</td>\n",
       "      <td>2023-01-06</td>\n",
       "      <td>Código 8 - AUTOS NO TALÃO ELETRÔNICO</td>\n",
       "      <td>5835</td>\n",
       "      <td>Desobedecer às ordens emanadas da autoridade c...</td>\n",
       "      <td>Art. 195</td>\n",
       "      <td>RUA DOS NAVEGANTES, CRUZAMENTO COM A RUA PADRE...</td>\n",
       "    </tr>\n",
       "    <tr>\n",
       "      <th>2</th>\n",
       "      <td>2023-01-01</td>\n",
       "      <td>00:27:00</td>\n",
       "      <td>2023-01-06</td>\n",
       "      <td>Código 8 - AUTOS NO TALÃO ELETRÔNICO</td>\n",
       "      <td>5215</td>\n",
       "      <td>Dirigir ameaçando os pedestres que estejam atr...</td>\n",
       "      <td>Art. 170</td>\n",
       "      <td>RUA DOS NAVEGANTES, CRUZAMENTO COM A RUA PADRE...</td>\n",
       "    </tr>\n",
       "    <tr>\n",
       "      <th>3</th>\n",
       "      <td>2023-01-01</td>\n",
       "      <td>00:52:00</td>\n",
       "      <td>2023-01-06</td>\n",
       "      <td>Código 8 - AUTOS NO TALÃO ELETRÔNICO</td>\n",
       "      <td>5550</td>\n",
       "      <td>Estacionar o veículo em locais e horários proi...</td>\n",
       "      <td>Art. 181, Inc. XVIII</td>\n",
       "      <td>AVENIDA ENGENHEIRO DOMINGOS FERREIRA, EM FRENT...</td>\n",
       "    </tr>\n",
       "    <tr>\n",
       "      <th>4</th>\n",
       "      <td>2023-01-01</td>\n",
       "      <td>00:52:00</td>\n",
       "      <td>2023-01-06</td>\n",
       "      <td>Código 8 - AUTOS NO TALÃO ELETRÔNICO</td>\n",
       "      <td>5550</td>\n",
       "      <td>Estacionar o veículo em locais e horários proi...</td>\n",
       "      <td>Art. 181, Inc. XVIII</td>\n",
       "      <td>AVENIDA ENGENHEIRO DOMINGOS FERREIRA, EM FRENT...</td>\n",
       "    </tr>\n",
       "  </tbody>\n",
       "</table>\n",
       "</div>"
      ],
      "text/plain": [
       "  datainfracao horainfracao dataimplantacao  \\\n",
       "0   2023-01-01     00:01:00      2023-01-06   \n",
       "1   2023-01-01     00:27:00      2023-01-06   \n",
       "2   2023-01-01     00:27:00      2023-01-06   \n",
       "3   2023-01-01     00:52:00      2023-01-06   \n",
       "4   2023-01-01     00:52:00      2023-01-06   \n",
       "\n",
       "                       agenteequipamento  infracao  \\\n",
       "0  Código 8 - AUTOS NO TALÃO ELETRÔNICO       7234   \n",
       "1  Código 8 - AUTOS NO TALÃO ELETRÔNICO       5835   \n",
       "2  Código 8 - AUTOS NO TALÃO ELETRÔNICO       5215   \n",
       "3  Código 8 - AUTOS NO TALÃO ELETRÔNICO       5550   \n",
       "4  Código 8 - AUTOS NO TALÃO ELETRÔNICO       5550   \n",
       "\n",
       "                                   descricaoinfracao  \\\n",
       "0  Quando o veículo estiver em movimento deixar d...   \n",
       "1  Desobedecer às ordens emanadas da autoridade c...   \n",
       "2  Dirigir ameaçando os pedestres que estejam atr...   \n",
       "3  Estacionar o veículo em locais e horários proi...   \n",
       "4  Estacionar o veículo em locais e horários proi...   \n",
       "\n",
       "                        amparolegal  \\\n",
       "0  Art. 250, Inc. I, alínea a         \n",
       "1  Art. 195                           \n",
       "2  Art. 170                           \n",
       "3  Art. 181, Inc. XVIII               \n",
       "4  Art. 181, Inc. XVIII               \n",
       "\n",
       "                                    localcometimento  \n",
       "0  RUA RIBEIRO DE BRITO, SOB O SEMAFORO N. 155   ...  \n",
       "1  RUA DOS NAVEGANTES, CRUZAMENTO COM A RUA PADRE...  \n",
       "2  RUA DOS NAVEGANTES, CRUZAMENTO COM A RUA PADRE...  \n",
       "3  AVENIDA ENGENHEIRO DOMINGOS FERREIRA, EM FRENT...  \n",
       "4  AVENIDA ENGENHEIRO DOMINGOS FERREIRA, EM FRENT...  "
      ]
     },
     "execution_count": 13,
     "metadata": {},
     "output_type": "execute_result"
    }
   ],
   "source": [
    "df_1.head()"
   ]
  },
  {
   "cell_type": "code",
   "execution_count": 14,
   "id": "3e33f604",
   "metadata": {},
   "outputs": [],
   "source": [
    "df_1['datainfracao'] = pd.to_datetime(df_1['datainfracao'], format='%Y-%m-%d')\n",
    "df_1['datainfracao'] = df_1['datainfracao'].dt.date\n",
    "\n",
    "df_1['dataimplantacao'] = pd.to_datetime(df_1['dataimplantacao'], format='%Y-%m-%d')\n",
    "df_1['dataimplantacao'] = df_1['dataimplantacao'].dt.date\n",
    "\n"
   ]
  },
  {
   "cell_type": "code",
   "execution_count": 15,
   "id": "1a391e1d",
   "metadata": {},
   "outputs": [
    {
     "data": {
      "text/plain": [
       "np.int64(0)"
      ]
     },
     "execution_count": 15,
     "metadata": {},
     "output_type": "execute_result"
    }
   ],
   "source": [
    "df_1['datainfracao'].isna().sum()\n"
   ]
  },
  {
   "cell_type": "code",
   "execution_count": 16,
   "id": "7737748c",
   "metadata": {},
   "outputs": [
    {
     "data": {
      "text/plain": [
       "np.int64(0)"
      ]
     },
     "execution_count": 16,
     "metadata": {},
     "output_type": "execute_result"
    }
   ],
   "source": [
    "df_1['dataimplantacao'].isna().sum()\n"
   ]
  },
  {
   "cell_type": "code",
   "execution_count": 17,
   "id": "5b115002",
   "metadata": {},
   "outputs": [
    {
     "data": {
      "text/html": [
       "<div>\n",
       "<style scoped>\n",
       "    .dataframe tbody tr th:only-of-type {\n",
       "        vertical-align: middle;\n",
       "    }\n",
       "\n",
       "    .dataframe tbody tr th {\n",
       "        vertical-align: top;\n",
       "    }\n",
       "\n",
       "    .dataframe thead th {\n",
       "        text-align: right;\n",
       "    }\n",
       "</style>\n",
       "<table border=\"1\" class=\"dataframe\">\n",
       "  <thead>\n",
       "    <tr style=\"text-align: right;\">\n",
       "      <th></th>\n",
       "      <th>datainfracao</th>\n",
       "      <th>horainfracao</th>\n",
       "      <th>dataimplantacao</th>\n",
       "      <th>agenteequipamento</th>\n",
       "      <th>infracao</th>\n",
       "      <th>descricaoinfracao</th>\n",
       "      <th>amparolegal</th>\n",
       "      <th>localcometimento</th>\n",
       "    </tr>\n",
       "  </thead>\n",
       "  <tbody>\n",
       "    <tr>\n",
       "      <th>0</th>\n",
       "      <td>2023-01-01</td>\n",
       "      <td>00:01:00</td>\n",
       "      <td>2023-01-06</td>\n",
       "      <td>Código 8 - AUTOS NO TALÃO ELETRÔNICO</td>\n",
       "      <td>7234</td>\n",
       "      <td>Quando o veículo estiver em movimento deixar d...</td>\n",
       "      <td>Art. 250, Inc. I, alínea a</td>\n",
       "      <td>RUA RIBEIRO DE BRITO, SOB O SEMAFORO N. 155   ...</td>\n",
       "    </tr>\n",
       "    <tr>\n",
       "      <th>1</th>\n",
       "      <td>2023-01-01</td>\n",
       "      <td>00:27:00</td>\n",
       "      <td>2023-01-06</td>\n",
       "      <td>Código 8 - AUTOS NO TALÃO ELETRÔNICO</td>\n",
       "      <td>5835</td>\n",
       "      <td>Desobedecer às ordens emanadas da autoridade c...</td>\n",
       "      <td>Art. 195</td>\n",
       "      <td>RUA DOS NAVEGANTES, CRUZAMENTO COM A RUA PADRE...</td>\n",
       "    </tr>\n",
       "    <tr>\n",
       "      <th>2</th>\n",
       "      <td>2023-01-01</td>\n",
       "      <td>00:27:00</td>\n",
       "      <td>2023-01-06</td>\n",
       "      <td>Código 8 - AUTOS NO TALÃO ELETRÔNICO</td>\n",
       "      <td>5215</td>\n",
       "      <td>Dirigir ameaçando os pedestres que estejam atr...</td>\n",
       "      <td>Art. 170</td>\n",
       "      <td>RUA DOS NAVEGANTES, CRUZAMENTO COM A RUA PADRE...</td>\n",
       "    </tr>\n",
       "    <tr>\n",
       "      <th>3</th>\n",
       "      <td>2023-01-01</td>\n",
       "      <td>00:52:00</td>\n",
       "      <td>2023-01-06</td>\n",
       "      <td>Código 8 - AUTOS NO TALÃO ELETRÔNICO</td>\n",
       "      <td>5550</td>\n",
       "      <td>Estacionar o veículo em locais e horários proi...</td>\n",
       "      <td>Art. 181, Inc. XVIII</td>\n",
       "      <td>AVENIDA ENGENHEIRO DOMINGOS FERREIRA, EM FRENT...</td>\n",
       "    </tr>\n",
       "    <tr>\n",
       "      <th>4</th>\n",
       "      <td>2023-01-01</td>\n",
       "      <td>00:52:00</td>\n",
       "      <td>2023-01-06</td>\n",
       "      <td>Código 8 - AUTOS NO TALÃO ELETRÔNICO</td>\n",
       "      <td>5550</td>\n",
       "      <td>Estacionar o veículo em locais e horários proi...</td>\n",
       "      <td>Art. 181, Inc. XVIII</td>\n",
       "      <td>AVENIDA ENGENHEIRO DOMINGOS FERREIRA, EM FRENT...</td>\n",
       "    </tr>\n",
       "  </tbody>\n",
       "</table>\n",
       "</div>"
      ],
      "text/plain": [
       "  datainfracao horainfracao dataimplantacao  \\\n",
       "0   2023-01-01     00:01:00      2023-01-06   \n",
       "1   2023-01-01     00:27:00      2023-01-06   \n",
       "2   2023-01-01     00:27:00      2023-01-06   \n",
       "3   2023-01-01     00:52:00      2023-01-06   \n",
       "4   2023-01-01     00:52:00      2023-01-06   \n",
       "\n",
       "                       agenteequipamento  infracao  \\\n",
       "0  Código 8 - AUTOS NO TALÃO ELETRÔNICO       7234   \n",
       "1  Código 8 - AUTOS NO TALÃO ELETRÔNICO       5835   \n",
       "2  Código 8 - AUTOS NO TALÃO ELETRÔNICO       5215   \n",
       "3  Código 8 - AUTOS NO TALÃO ELETRÔNICO       5550   \n",
       "4  Código 8 - AUTOS NO TALÃO ELETRÔNICO       5550   \n",
       "\n",
       "                                   descricaoinfracao  \\\n",
       "0  Quando o veículo estiver em movimento deixar d...   \n",
       "1  Desobedecer às ordens emanadas da autoridade c...   \n",
       "2  Dirigir ameaçando os pedestres que estejam atr...   \n",
       "3  Estacionar o veículo em locais e horários proi...   \n",
       "4  Estacionar o veículo em locais e horários proi...   \n",
       "\n",
       "                        amparolegal  \\\n",
       "0  Art. 250, Inc. I, alínea a         \n",
       "1  Art. 195                           \n",
       "2  Art. 170                           \n",
       "3  Art. 181, Inc. XVIII               \n",
       "4  Art. 181, Inc. XVIII               \n",
       "\n",
       "                                    localcometimento  \n",
       "0  RUA RIBEIRO DE BRITO, SOB O SEMAFORO N. 155   ...  \n",
       "1  RUA DOS NAVEGANTES, CRUZAMENTO COM A RUA PADRE...  \n",
       "2  RUA DOS NAVEGANTES, CRUZAMENTO COM A RUA PADRE...  \n",
       "3  AVENIDA ENGENHEIRO DOMINGOS FERREIRA, EM FRENT...  \n",
       "4  AVENIDA ENGENHEIRO DOMINGOS FERREIRA, EM FRENT...  "
      ]
     },
     "execution_count": 17,
     "metadata": {},
     "output_type": "execute_result"
    }
   ],
   "source": [
    "df_1.head()"
   ]
  },
  {
   "cell_type": "code",
   "execution_count": 18,
   "id": "66fecb68",
   "metadata": {},
   "outputs": [
    {
     "data": {
      "text/html": [
       "<div>\n",
       "<style scoped>\n",
       "    .dataframe tbody tr th:only-of-type {\n",
       "        vertical-align: middle;\n",
       "    }\n",
       "\n",
       "    .dataframe tbody tr th {\n",
       "        vertical-align: top;\n",
       "    }\n",
       "\n",
       "    .dataframe thead th {\n",
       "        text-align: right;\n",
       "    }\n",
       "</style>\n",
       "<table border=\"1\" class=\"dataframe\">\n",
       "  <thead>\n",
       "    <tr style=\"text-align: right;\">\n",
       "      <th></th>\n",
       "      <th>datainfracao</th>\n",
       "      <th>horainfracao</th>\n",
       "      <th>dataimplantacao</th>\n",
       "      <th>agenteequipamento</th>\n",
       "      <th>infracao</th>\n",
       "      <th>descricaoinfracao</th>\n",
       "      <th>amparolegal</th>\n",
       "      <th>localcometimento</th>\n",
       "    </tr>\n",
       "  </thead>\n",
       "  <tbody>\n",
       "    <tr>\n",
       "      <th>0</th>\n",
       "      <td>01/01/2024 00:00</td>\n",
       "      <td>00:59:00</td>\n",
       "      <td>03/01/2024 00:00</td>\n",
       "      <td>Código 8 - AUTOS NO TALÃO ELETRÔNICO</td>\n",
       "      <td>5479</td>\n",
       "      <td>Estacionar o veículo impedindo a movimentação ...</td>\n",
       "      <td>Art. 181, Inc. X</td>\n",
       "      <td>AVENIDA BOA VIAGEM, LADO OPOSTO AO N. 618</td>\n",
       "    </tr>\n",
       "    <tr>\n",
       "      <th>1</th>\n",
       "      <td>01/01/2024 00:00</td>\n",
       "      <td>01:08:00</td>\n",
       "      <td>03/01/2024 00:00</td>\n",
       "      <td>Código 8 - AUTOS NO TALÃO ELETRÔNICO</td>\n",
       "      <td>6564</td>\n",
       "      <td>Conduzir o veículo transportando passageiros e...</td>\n",
       "      <td>Art. 230, Inc. II</td>\n",
       "      <td>AVENIDA BOA VIAGEM, EM FRENTE AO N. 500. SENTI...</td>\n",
       "    </tr>\n",
       "    <tr>\n",
       "      <th>2</th>\n",
       "      <td>01/01/2024 00:00</td>\n",
       "      <td>01:50:00</td>\n",
       "      <td>03/01/2024 00:00</td>\n",
       "      <td>Código 8 - AUTOS NO TALÃO ELETRÔNICO</td>\n",
       "      <td>5452</td>\n",
       "      <td>Estacionar o veículo no passeio.</td>\n",
       "      <td>Art. 181, Inc. VIII</td>\n",
       "      <td>RUA CAPITAO REBELINHO, EM FRENTE AO N. 482, SE...</td>\n",
       "    </tr>\n",
       "    <tr>\n",
       "      <th>3</th>\n",
       "      <td>01/01/2024 00:00</td>\n",
       "      <td>02:00:00</td>\n",
       "      <td>03/01/2024 00:00</td>\n",
       "      <td>Código 8 - AUTOS NO TALÃO ELETRÔNICO</td>\n",
       "      <td>5452</td>\n",
       "      <td>Estacionar o veículo no passeio.</td>\n",
       "      <td>Art. 181, Inc. VIII</td>\n",
       "      <td>RUA CAPITAO REBELINHO, EM FRENTE AO N. 482</td>\n",
       "    </tr>\n",
       "    <tr>\n",
       "      <th>4</th>\n",
       "      <td>01/01/2024 00:00</td>\n",
       "      <td>02:18:00</td>\n",
       "      <td>03/01/2024 00:00</td>\n",
       "      <td>Código 8 - AUTOS NO TALÃO ELETRÔNICO</td>\n",
       "      <td>6050</td>\n",
       "      <td>Avançar o sinal vermelho do semáforo, exceto o...</td>\n",
       "      <td>Art. 208</td>\n",
       "      <td>AVENIDA CONSELHEIRO AGUIAR, SOB AO SEMAFORO N....</td>\n",
       "    </tr>\n",
       "  </tbody>\n",
       "</table>\n",
       "</div>"
      ],
      "text/plain": [
       "       datainfracao horainfracao   dataimplantacao  \\\n",
       "0  01/01/2024 00:00     00:59:00  03/01/2024 00:00   \n",
       "1  01/01/2024 00:00     01:08:00  03/01/2024 00:00   \n",
       "2  01/01/2024 00:00     01:50:00  03/01/2024 00:00   \n",
       "3  01/01/2024 00:00     02:00:00  03/01/2024 00:00   \n",
       "4  01/01/2024 00:00     02:18:00  03/01/2024 00:00   \n",
       "\n",
       "                      agenteequipamento  infracao  \\\n",
       "0  Código 8 - AUTOS NO TALÃO ELETRÔNICO      5479   \n",
       "1  Código 8 - AUTOS NO TALÃO ELETRÔNICO      6564   \n",
       "2  Código 8 - AUTOS NO TALÃO ELETRÔNICO      5452   \n",
       "3  Código 8 - AUTOS NO TALÃO ELETRÔNICO      5452   \n",
       "4  Código 8 - AUTOS NO TALÃO ELETRÔNICO      6050   \n",
       "\n",
       "                                   descricaoinfracao          amparolegal  \\\n",
       "0  Estacionar o veículo impedindo a movimentação ...     Art. 181, Inc. X   \n",
       "1  Conduzir o veículo transportando passageiros e...    Art. 230, Inc. II   \n",
       "2                   Estacionar o veículo no passeio.  Art. 181, Inc. VIII   \n",
       "3                   Estacionar o veículo no passeio.  Art. 181, Inc. VIII   \n",
       "4  Avançar o sinal vermelho do semáforo, exceto o...             Art. 208   \n",
       "\n",
       "                                    localcometimento  \n",
       "0          AVENIDA BOA VIAGEM, LADO OPOSTO AO N. 618  \n",
       "1  AVENIDA BOA VIAGEM, EM FRENTE AO N. 500. SENTI...  \n",
       "2  RUA CAPITAO REBELINHO, EM FRENTE AO N. 482, SE...  \n",
       "3         RUA CAPITAO REBELINHO, EM FRENTE AO N. 482  \n",
       "4  AVENIDA CONSELHEIRO AGUIAR, SOB AO SEMAFORO N....  "
      ]
     },
     "execution_count": 18,
     "metadata": {},
     "output_type": "execute_result"
    }
   ],
   "source": [
    "df_2.head()"
   ]
  },
  {
   "cell_type": "code",
   "execution_count": 19,
   "id": "de6203a7",
   "metadata": {},
   "outputs": [],
   "source": [
    "df_2['datainfracao'] = pd.to_datetime(df_2['datainfracao'], format='%d/%m/%Y %H:%M')\n",
    "df_2['datainfracao'] = df_2['datainfracao'].dt.date\n",
    "\n",
    "df_2['dataimplantacao'] = pd.to_datetime(df_2['dataimplantacao'], format='%d/%m/%Y %H:%M')\n",
    "df_2['dataimplantacao'] = df_2['dataimplantacao'].dt.date\n",
    "\n"
   ]
  },
  {
   "cell_type": "code",
   "execution_count": 20,
   "id": "7670cf17",
   "metadata": {},
   "outputs": [
    {
     "data": {
      "text/plain": [
       "np.int64(0)"
      ]
     },
     "execution_count": 20,
     "metadata": {},
     "output_type": "execute_result"
    }
   ],
   "source": [
    "df_2['datainfracao'].isna().sum()"
   ]
  },
  {
   "cell_type": "code",
   "execution_count": 21,
   "id": "7df79bc7",
   "metadata": {},
   "outputs": [
    {
     "data": {
      "text/plain": [
       "np.int64(0)"
      ]
     },
     "execution_count": 21,
     "metadata": {},
     "output_type": "execute_result"
    }
   ],
   "source": [
    "df_2['dataimplantacao'].isna().sum()"
   ]
  },
  {
   "cell_type": "code",
   "execution_count": 22,
   "id": "1456affe",
   "metadata": {},
   "outputs": [
    {
     "data": {
      "text/html": [
       "<div>\n",
       "<style scoped>\n",
       "    .dataframe tbody tr th:only-of-type {\n",
       "        vertical-align: middle;\n",
       "    }\n",
       "\n",
       "    .dataframe tbody tr th {\n",
       "        vertical-align: top;\n",
       "    }\n",
       "\n",
       "    .dataframe thead th {\n",
       "        text-align: right;\n",
       "    }\n",
       "</style>\n",
       "<table border=\"1\" class=\"dataframe\">\n",
       "  <thead>\n",
       "    <tr style=\"text-align: right;\">\n",
       "      <th></th>\n",
       "      <th>datainfracao</th>\n",
       "      <th>horainfracao</th>\n",
       "      <th>dataimplantacao</th>\n",
       "      <th>agenteequipamento</th>\n",
       "      <th>infracao</th>\n",
       "      <th>descricaoinfracao</th>\n",
       "      <th>amparolegal</th>\n",
       "      <th>localcometimento</th>\n",
       "    </tr>\n",
       "  </thead>\n",
       "  <tbody>\n",
       "    <tr>\n",
       "      <th>0</th>\n",
       "      <td>2024-01-01</td>\n",
       "      <td>00:59:00</td>\n",
       "      <td>2024-01-03</td>\n",
       "      <td>Código 8 - AUTOS NO TALÃO ELETRÔNICO</td>\n",
       "      <td>5479</td>\n",
       "      <td>Estacionar o veículo impedindo a movimentação ...</td>\n",
       "      <td>Art. 181, Inc. X</td>\n",
       "      <td>AVENIDA BOA VIAGEM, LADO OPOSTO AO N. 618</td>\n",
       "    </tr>\n",
       "    <tr>\n",
       "      <th>1</th>\n",
       "      <td>2024-01-01</td>\n",
       "      <td>01:08:00</td>\n",
       "      <td>2024-01-03</td>\n",
       "      <td>Código 8 - AUTOS NO TALÃO ELETRÔNICO</td>\n",
       "      <td>6564</td>\n",
       "      <td>Conduzir o veículo transportando passageiros e...</td>\n",
       "      <td>Art. 230, Inc. II</td>\n",
       "      <td>AVENIDA BOA VIAGEM, EM FRENTE AO N. 500. SENTI...</td>\n",
       "    </tr>\n",
       "    <tr>\n",
       "      <th>2</th>\n",
       "      <td>2024-01-01</td>\n",
       "      <td>01:50:00</td>\n",
       "      <td>2024-01-03</td>\n",
       "      <td>Código 8 - AUTOS NO TALÃO ELETRÔNICO</td>\n",
       "      <td>5452</td>\n",
       "      <td>Estacionar o veículo no passeio.</td>\n",
       "      <td>Art. 181, Inc. VIII</td>\n",
       "      <td>RUA CAPITAO REBELINHO, EM FRENTE AO N. 482, SE...</td>\n",
       "    </tr>\n",
       "    <tr>\n",
       "      <th>3</th>\n",
       "      <td>2024-01-01</td>\n",
       "      <td>02:00:00</td>\n",
       "      <td>2024-01-03</td>\n",
       "      <td>Código 8 - AUTOS NO TALÃO ELETRÔNICO</td>\n",
       "      <td>5452</td>\n",
       "      <td>Estacionar o veículo no passeio.</td>\n",
       "      <td>Art. 181, Inc. VIII</td>\n",
       "      <td>RUA CAPITAO REBELINHO, EM FRENTE AO N. 482</td>\n",
       "    </tr>\n",
       "    <tr>\n",
       "      <th>4</th>\n",
       "      <td>2024-01-01</td>\n",
       "      <td>02:18:00</td>\n",
       "      <td>2024-01-03</td>\n",
       "      <td>Código 8 - AUTOS NO TALÃO ELETRÔNICO</td>\n",
       "      <td>6050</td>\n",
       "      <td>Avançar o sinal vermelho do semáforo, exceto o...</td>\n",
       "      <td>Art. 208</td>\n",
       "      <td>AVENIDA CONSELHEIRO AGUIAR, SOB AO SEMAFORO N....</td>\n",
       "    </tr>\n",
       "  </tbody>\n",
       "</table>\n",
       "</div>"
      ],
      "text/plain": [
       "  datainfracao horainfracao dataimplantacao  \\\n",
       "0   2024-01-01     00:59:00      2024-01-03   \n",
       "1   2024-01-01     01:08:00      2024-01-03   \n",
       "2   2024-01-01     01:50:00      2024-01-03   \n",
       "3   2024-01-01     02:00:00      2024-01-03   \n",
       "4   2024-01-01     02:18:00      2024-01-03   \n",
       "\n",
       "                      agenteequipamento  infracao  \\\n",
       "0  Código 8 - AUTOS NO TALÃO ELETRÔNICO      5479   \n",
       "1  Código 8 - AUTOS NO TALÃO ELETRÔNICO      6564   \n",
       "2  Código 8 - AUTOS NO TALÃO ELETRÔNICO      5452   \n",
       "3  Código 8 - AUTOS NO TALÃO ELETRÔNICO      5452   \n",
       "4  Código 8 - AUTOS NO TALÃO ELETRÔNICO      6050   \n",
       "\n",
       "                                   descricaoinfracao          amparolegal  \\\n",
       "0  Estacionar o veículo impedindo a movimentação ...     Art. 181, Inc. X   \n",
       "1  Conduzir o veículo transportando passageiros e...    Art. 230, Inc. II   \n",
       "2                   Estacionar o veículo no passeio.  Art. 181, Inc. VIII   \n",
       "3                   Estacionar o veículo no passeio.  Art. 181, Inc. VIII   \n",
       "4  Avançar o sinal vermelho do semáforo, exceto o...             Art. 208   \n",
       "\n",
       "                                    localcometimento  \n",
       "0          AVENIDA BOA VIAGEM, LADO OPOSTO AO N. 618  \n",
       "1  AVENIDA BOA VIAGEM, EM FRENTE AO N. 500. SENTI...  \n",
       "2  RUA CAPITAO REBELINHO, EM FRENTE AO N. 482, SE...  \n",
       "3         RUA CAPITAO REBELINHO, EM FRENTE AO N. 482  \n",
       "4  AVENIDA CONSELHEIRO AGUIAR, SOB AO SEMAFORO N....  "
      ]
     },
     "execution_count": 22,
     "metadata": {},
     "output_type": "execute_result"
    }
   ],
   "source": [
    "df_2.head()"
   ]
  },
  {
   "cell_type": "code",
   "execution_count": 23,
   "id": "92982c37",
   "metadata": {},
   "outputs": [
    {
     "data": {
      "text/html": [
       "<div>\n",
       "<style scoped>\n",
       "    .dataframe tbody tr th:only-of-type {\n",
       "        vertical-align: middle;\n",
       "    }\n",
       "\n",
       "    .dataframe tbody tr th {\n",
       "        vertical-align: top;\n",
       "    }\n",
       "\n",
       "    .dataframe thead th {\n",
       "        text-align: right;\n",
       "    }\n",
       "</style>\n",
       "<table border=\"1\" class=\"dataframe\">\n",
       "  <thead>\n",
       "    <tr style=\"text-align: right;\">\n",
       "      <th></th>\n",
       "      <th>datainfracao</th>\n",
       "      <th>horainfracao</th>\n",
       "      <th>dataimplantacao</th>\n",
       "      <th>agenteequipamento</th>\n",
       "      <th>infracao</th>\n",
       "      <th>descricaoinfracao</th>\n",
       "      <th>amparolegal</th>\n",
       "      <th>localcometimento</th>\n",
       "    </tr>\n",
       "  </thead>\n",
       "  <tbody>\n",
       "    <tr>\n",
       "      <th>0</th>\n",
       "      <td>2025-01-01</td>\n",
       "      <td>00:01:00</td>\n",
       "      <td>2025-01-09</td>\n",
       "      <td>Código 8 - AUTOS NO TALÃO ELETRÔNICO</td>\n",
       "      <td>7340</td>\n",
       "      <td>Dirigir o veículo usando calçado que não se fi...</td>\n",
       "      <td>Art. 252, Inc. IV</td>\n",
       "      <td>RUA ALCIDES CARNEIRO LEAL, EM FRENTE AO N. 71</td>\n",
       "    </tr>\n",
       "    <tr>\n",
       "      <th>1</th>\n",
       "      <td>2025-01-01</td>\n",
       "      <td>00:03:00</td>\n",
       "      <td>2025-01-09</td>\n",
       "      <td>Código 8 - AUTOS NO TALÃO ELETRÔNICO</td>\n",
       "      <td>7684</td>\n",
       "      <td>Conduzir motocicleta, motoneta ou ciclomotor c...</td>\n",
       "      <td>Art. 244, X</td>\n",
       "      <td>RUA ALCIDES CARNEIRO LEAL, EM FRENTE AO N. 71</td>\n",
       "    </tr>\n",
       "    <tr>\n",
       "      <th>2</th>\n",
       "      <td>2025-01-01</td>\n",
       "      <td>00:05:00</td>\n",
       "      <td>2025-01-09</td>\n",
       "      <td>Código 8 - AUTOS NO TALÃO ELETRÔNICO</td>\n",
       "      <td>5487</td>\n",
       "      <td>Estacionar o veículo ao lado de outro veículo ...</td>\n",
       "      <td>Art. 181, Inc. XI</td>\n",
       "      <td>AVENIDA BOA VIAGEM, LADO OPOSTO AO N. 3232</td>\n",
       "    </tr>\n",
       "    <tr>\n",
       "      <th>3</th>\n",
       "      <td>2025-01-01</td>\n",
       "      <td>00:05:00</td>\n",
       "      <td>2025-01-09</td>\n",
       "      <td>Código 8 - AUTOS NO TALÃO ELETRÔNICO</td>\n",
       "      <td>5487</td>\n",
       "      <td>Estacionar o veículo ao lado de outro veículo ...</td>\n",
       "      <td>Art. 181, Inc. XI</td>\n",
       "      <td>AVENIDA BOA VIAGEM, LADO OPOSTO AO N. 3232</td>\n",
       "    </tr>\n",
       "    <tr>\n",
       "      <th>4</th>\n",
       "      <td>2025-01-01</td>\n",
       "      <td>00:05:00</td>\n",
       "      <td>2025-01-09</td>\n",
       "      <td>Código 8 - AUTOS NO TALÃO ELETRÔNICO</td>\n",
       "      <td>5487</td>\n",
       "      <td>Estacionar o veículo ao lado de outro veículo ...</td>\n",
       "      <td>Art. 181, Inc. XI</td>\n",
       "      <td>AVENIDA BOA VIAGEM, AO LADO AO N. 3232</td>\n",
       "    </tr>\n",
       "  </tbody>\n",
       "</table>\n",
       "</div>"
      ],
      "text/plain": [
       "  datainfracao horainfracao dataimplantacao  \\\n",
       "0   2025-01-01     00:01:00      2025-01-09   \n",
       "1   2025-01-01     00:03:00      2025-01-09   \n",
       "2   2025-01-01     00:05:00      2025-01-09   \n",
       "3   2025-01-01     00:05:00      2025-01-09   \n",
       "4   2025-01-01     00:05:00      2025-01-09   \n",
       "\n",
       "                      agenteequipamento  infracao  \\\n",
       "0  Código 8 - AUTOS NO TALÃO ELETRÔNICO      7340   \n",
       "1  Código 8 - AUTOS NO TALÃO ELETRÔNICO      7684   \n",
       "2  Código 8 - AUTOS NO TALÃO ELETRÔNICO      5487   \n",
       "3  Código 8 - AUTOS NO TALÃO ELETRÔNICO      5487   \n",
       "4  Código 8 - AUTOS NO TALÃO ELETRÔNICO      5487   \n",
       "\n",
       "                                   descricaoinfracao        amparolegal  \\\n",
       "0  Dirigir o veículo usando calçado que não se fi...  Art. 252, Inc. IV   \n",
       "1  Conduzir motocicleta, motoneta ou ciclomotor c...        Art. 244, X   \n",
       "2  Estacionar o veículo ao lado de outro veículo ...  Art. 181, Inc. XI   \n",
       "3  Estacionar o veículo ao lado de outro veículo ...  Art. 181, Inc. XI   \n",
       "4  Estacionar o veículo ao lado de outro veículo ...  Art. 181, Inc. XI   \n",
       "\n",
       "                                localcometimento  \n",
       "0  RUA ALCIDES CARNEIRO LEAL, EM FRENTE AO N. 71  \n",
       "1  RUA ALCIDES CARNEIRO LEAL, EM FRENTE AO N. 71  \n",
       "2     AVENIDA BOA VIAGEM, LADO OPOSTO AO N. 3232  \n",
       "3     AVENIDA BOA VIAGEM, LADO OPOSTO AO N. 3232  \n",
       "4         AVENIDA BOA VIAGEM, AO LADO AO N. 3232  "
      ]
     },
     "execution_count": 23,
     "metadata": {},
     "output_type": "execute_result"
    }
   ],
   "source": [
    "df_3.head()"
   ]
  },
  {
   "cell_type": "code",
   "execution_count": 24,
   "id": "6d603dec",
   "metadata": {},
   "outputs": [],
   "source": [
    "df_3['datainfracao'] = pd.to_datetime(df_3['datainfracao'], format='%Y-%m-%d')\n",
    "df_3['datainfracao'] = df_3['datainfracao'].dt.date\n",
    "\n",
    "df_3['dataimplantacao'] = pd.to_datetime(df_3['dataimplantacao'], format='%Y-%m-%d')\n",
    "df_3['dataimplantacao'] = df_3['dataimplantacao'].dt.date"
   ]
  },
  {
   "cell_type": "code",
   "execution_count": 25,
   "id": "eac798a0",
   "metadata": {},
   "outputs": [
    {
     "data": {
      "text/html": [
       "<div>\n",
       "<style scoped>\n",
       "    .dataframe tbody tr th:only-of-type {\n",
       "        vertical-align: middle;\n",
       "    }\n",
       "\n",
       "    .dataframe tbody tr th {\n",
       "        vertical-align: top;\n",
       "    }\n",
       "\n",
       "    .dataframe thead th {\n",
       "        text-align: right;\n",
       "    }\n",
       "</style>\n",
       "<table border=\"1\" class=\"dataframe\">\n",
       "  <thead>\n",
       "    <tr style=\"text-align: right;\">\n",
       "      <th></th>\n",
       "      <th>datainfracao</th>\n",
       "      <th>horainfracao</th>\n",
       "      <th>dataimplantacao</th>\n",
       "      <th>agenteequipamento</th>\n",
       "      <th>infracao</th>\n",
       "      <th>descricaoinfracao</th>\n",
       "      <th>amparolegal</th>\n",
       "      <th>localcometimento</th>\n",
       "    </tr>\n",
       "  </thead>\n",
       "  <tbody>\n",
       "    <tr>\n",
       "      <th>0</th>\n",
       "      <td>2025-01-01</td>\n",
       "      <td>00:01:00</td>\n",
       "      <td>2025-01-09</td>\n",
       "      <td>Código 8 - AUTOS NO TALÃO ELETRÔNICO</td>\n",
       "      <td>7340</td>\n",
       "      <td>Dirigir o veículo usando calçado que não se fi...</td>\n",
       "      <td>Art. 252, Inc. IV</td>\n",
       "      <td>RUA ALCIDES CARNEIRO LEAL, EM FRENTE AO N. 71</td>\n",
       "    </tr>\n",
       "    <tr>\n",
       "      <th>1</th>\n",
       "      <td>2025-01-01</td>\n",
       "      <td>00:03:00</td>\n",
       "      <td>2025-01-09</td>\n",
       "      <td>Código 8 - AUTOS NO TALÃO ELETRÔNICO</td>\n",
       "      <td>7684</td>\n",
       "      <td>Conduzir motocicleta, motoneta ou ciclomotor c...</td>\n",
       "      <td>Art. 244, X</td>\n",
       "      <td>RUA ALCIDES CARNEIRO LEAL, EM FRENTE AO N. 71</td>\n",
       "    </tr>\n",
       "    <tr>\n",
       "      <th>2</th>\n",
       "      <td>2025-01-01</td>\n",
       "      <td>00:05:00</td>\n",
       "      <td>2025-01-09</td>\n",
       "      <td>Código 8 - AUTOS NO TALÃO ELETRÔNICO</td>\n",
       "      <td>5487</td>\n",
       "      <td>Estacionar o veículo ao lado de outro veículo ...</td>\n",
       "      <td>Art. 181, Inc. XI</td>\n",
       "      <td>AVENIDA BOA VIAGEM, LADO OPOSTO AO N. 3232</td>\n",
       "    </tr>\n",
       "    <tr>\n",
       "      <th>3</th>\n",
       "      <td>2025-01-01</td>\n",
       "      <td>00:05:00</td>\n",
       "      <td>2025-01-09</td>\n",
       "      <td>Código 8 - AUTOS NO TALÃO ELETRÔNICO</td>\n",
       "      <td>5487</td>\n",
       "      <td>Estacionar o veículo ao lado de outro veículo ...</td>\n",
       "      <td>Art. 181, Inc. XI</td>\n",
       "      <td>AVENIDA BOA VIAGEM, LADO OPOSTO AO N. 3232</td>\n",
       "    </tr>\n",
       "    <tr>\n",
       "      <th>4</th>\n",
       "      <td>2025-01-01</td>\n",
       "      <td>00:05:00</td>\n",
       "      <td>2025-01-09</td>\n",
       "      <td>Código 8 - AUTOS NO TALÃO ELETRÔNICO</td>\n",
       "      <td>5487</td>\n",
       "      <td>Estacionar o veículo ao lado de outro veículo ...</td>\n",
       "      <td>Art. 181, Inc. XI</td>\n",
       "      <td>AVENIDA BOA VIAGEM, AO LADO AO N. 3232</td>\n",
       "    </tr>\n",
       "  </tbody>\n",
       "</table>\n",
       "</div>"
      ],
      "text/plain": [
       "  datainfracao horainfracao dataimplantacao  \\\n",
       "0   2025-01-01     00:01:00      2025-01-09   \n",
       "1   2025-01-01     00:03:00      2025-01-09   \n",
       "2   2025-01-01     00:05:00      2025-01-09   \n",
       "3   2025-01-01     00:05:00      2025-01-09   \n",
       "4   2025-01-01     00:05:00      2025-01-09   \n",
       "\n",
       "                      agenteequipamento  infracao  \\\n",
       "0  Código 8 - AUTOS NO TALÃO ELETRÔNICO      7340   \n",
       "1  Código 8 - AUTOS NO TALÃO ELETRÔNICO      7684   \n",
       "2  Código 8 - AUTOS NO TALÃO ELETRÔNICO      5487   \n",
       "3  Código 8 - AUTOS NO TALÃO ELETRÔNICO      5487   \n",
       "4  Código 8 - AUTOS NO TALÃO ELETRÔNICO      5487   \n",
       "\n",
       "                                   descricaoinfracao        amparolegal  \\\n",
       "0  Dirigir o veículo usando calçado que não se fi...  Art. 252, Inc. IV   \n",
       "1  Conduzir motocicleta, motoneta ou ciclomotor c...        Art. 244, X   \n",
       "2  Estacionar o veículo ao lado de outro veículo ...  Art. 181, Inc. XI   \n",
       "3  Estacionar o veículo ao lado de outro veículo ...  Art. 181, Inc. XI   \n",
       "4  Estacionar o veículo ao lado de outro veículo ...  Art. 181, Inc. XI   \n",
       "\n",
       "                                localcometimento  \n",
       "0  RUA ALCIDES CARNEIRO LEAL, EM FRENTE AO N. 71  \n",
       "1  RUA ALCIDES CARNEIRO LEAL, EM FRENTE AO N. 71  \n",
       "2     AVENIDA BOA VIAGEM, LADO OPOSTO AO N. 3232  \n",
       "3     AVENIDA BOA VIAGEM, LADO OPOSTO AO N. 3232  \n",
       "4         AVENIDA BOA VIAGEM, AO LADO AO N. 3232  "
      ]
     },
     "execution_count": 25,
     "metadata": {},
     "output_type": "execute_result"
    }
   ],
   "source": [
    "df_3.head()"
   ]
  },
  {
   "cell_type": "code",
   "execution_count": 26,
   "id": "ae798048",
   "metadata": {},
   "outputs": [
    {
     "data": {
      "text/plain": [
       "np.int64(0)"
      ]
     },
     "execution_count": 26,
     "metadata": {},
     "output_type": "execute_result"
    }
   ],
   "source": [
    "df_3['datainfracao'].isna().sum()"
   ]
  },
  {
   "cell_type": "code",
   "execution_count": 27,
   "id": "6491cb3f",
   "metadata": {},
   "outputs": [
    {
     "data": {
      "text/plain": [
       "np.int64(0)"
      ]
     },
     "execution_count": 27,
     "metadata": {},
     "output_type": "execute_result"
    }
   ],
   "source": [
    "df_3['dataimplantacao'].isna().sum()"
   ]
  },
  {
   "cell_type": "markdown",
   "id": "bf118198",
   "metadata": {},
   "source": [
    "## Juntando as bases de dados"
   ]
  },
  {
   "cell_type": "code",
   "execution_count": 28,
   "id": "135a68bf",
   "metadata": {},
   "outputs": [],
   "source": [
    "# Concatenação por linhas (empilhando)\n",
    "dft = pd.concat([df_1, df_2, df_3], axis=0, ignore_index=True)\n"
   ]
  },
  {
   "cell_type": "code",
   "execution_count": 29,
   "id": "653b78fb",
   "metadata": {},
   "outputs": [],
   "source": [
    "# Nome da pasta onde tudo será salvo\n",
    "output_dir = \"dataset_infracoes_final\"\n",
    "os.makedirs(output_dir, exist_ok=True)\n",
    "\n",
    "# Caminho completo do CSV final\n",
    "csv_path = os.path.join(output_dir, \"dataset_infracoes_final.csv\")\n",
    "\n",
    "# Caminho para o .gitignore\n",
    "gitignore_path = os.path.join(output_dir, \".gitignore\")\n"
   ]
  },
  {
   "cell_type": "code",
   "execution_count": 30,
   "id": "e651e25b",
   "metadata": {},
   "outputs": [
    {
     "name": "stdout",
     "output_type": "stream",
     "text": [
      "Arquivo CSV salvo em: dataset_infracoes_final\\dataset_infracoes_final.csv\n",
      ".gitignore criado em: dataset_infracoes_final\\.gitignore\n"
     ]
    }
   ],
   "source": [
    "# Salva o CSV com separador ';'\n",
    "dft.to_csv(csv_path, index=False, sep=';')\n",
    "\n",
    "# Cria o .gitignore dentro da pasta, ignorando apenas o CSV\n",
    "with open(gitignore_path, \"w\") as f:\n",
    "    f.write(\"*.csv\\n\")\n",
    "\n",
    "print(f\"Arquivo CSV salvo em: {csv_path}\")\n",
    "print(f\".gitignore criado em: {gitignore_path}\")"
   ]
  },
  {
   "cell_type": "code",
   "execution_count": 31,
   "id": "bfd74eb5",
   "metadata": {},
   "outputs": [
    {
     "name": "stderr",
     "output_type": "stream",
     "text": [
      "C:\\Users\\eduar\\AppData\\Local\\Temp\\ipykernel_11576\\637154546.py:1: DtypeWarning: Columns (3) have mixed types. Specify dtype option on import or set low_memory=False.\n",
      "  dft = pd.read_csv(\"../datasets/dataset_infracoes_final/dataset_infracoes_final.csv\", sep=';')\n"
     ]
    }
   ],
   "source": [
    "dft = pd.read_csv(\"../datasets/dataset_infracoes_final/dataset_infracoes_final.csv\", sep=';') "
   ]
  },
  {
   "cell_type": "code",
   "execution_count": 32,
   "id": "7b00fa33",
   "metadata": {},
   "outputs": [
    {
     "name": "stdout",
     "output_type": "stream",
     "text": [
      "<class 'pandas.core.frame.DataFrame'>\n",
      "RangeIndex: 1064812 entries, 0 to 1064811\n",
      "Data columns (total 8 columns):\n",
      " #   Column             Non-Null Count    Dtype \n",
      "---  ------             --------------    ----- \n",
      " 0   datainfracao       1064812 non-null  object\n",
      " 1   horainfracao       1064812 non-null  object\n",
      " 2   dataimplantacao    1064812 non-null  object\n",
      " 3   agenteequipamento  1002028 non-null  object\n",
      " 4   infracao           1064812 non-null  int64 \n",
      " 5   descricaoinfracao  1064812 non-null  object\n",
      " 6   amparolegal        1064812 non-null  object\n",
      " 7   localcometimento   1064812 non-null  object\n",
      "dtypes: int64(1), object(7)\n",
      "memory usage: 65.0+ MB\n"
     ]
    }
   ],
   "source": [
    "dft.info()"
   ]
  },
  {
   "cell_type": "code",
   "execution_count": 33,
   "id": "01903892",
   "metadata": {},
   "outputs": [
    {
     "data": {
      "text/plain": [
       "datainfracao             0\n",
       "horainfracao             0\n",
       "dataimplantacao          0\n",
       "agenteequipamento    62784\n",
       "infracao                 0\n",
       "descricaoinfracao        0\n",
       "amparolegal              0\n",
       "localcometimento         0\n",
       "dtype: int64"
      ]
     },
     "execution_count": 33,
     "metadata": {},
     "output_type": "execute_result"
    }
   ],
   "source": [
    "dft.isna().sum()"
   ]
  }
 ],
 "metadata": {
  "kernelspec": {
   "display_name": "Python 3",
   "language": "python",
   "name": "python3"
  },
  "language_info": {
   "codemirror_mode": {
    "name": "ipython",
    "version": 3
   },
   "file_extension": ".py",
   "mimetype": "text/x-python",
   "name": "python",
   "nbconvert_exporter": "python",
   "pygments_lexer": "ipython3",
   "version": "3.11.9"
  }
 },
 "nbformat": 4,
 "nbformat_minor": 5
}
