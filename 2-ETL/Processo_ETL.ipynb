{
 "cells": [
  {
   "cell_type": "markdown",
   "id": "510e629b",
   "metadata": {},
   "source": [
    "## Trazendo as planilhas e Importando Bibliotecas"
   ]
  },
  {
   "cell_type": "code",
   "execution_count": 1,
   "id": "ce19fede",
   "metadata": {},
   "outputs": [],
   "source": [
    "# Bibliotecas:\n",
    "import pandas as pd"
   ]
  },
  {
   "cell_type": "markdown",
   "id": "d4a26d3e",
   "metadata": {},
   "source": [
    "## Carregando Dataset Concatenado"
   ]
  },
  {
   "cell_type": "code",
   "execution_count": 2,
   "id": "c2d26b1e",
   "metadata": {},
   "outputs": [
    {
     "name": "stderr",
     "output_type": "stream",
     "text": [
      "C:\\Users\\zovka\\AppData\\Local\\Temp\\ipykernel_26484\\637154546.py:1: DtypeWarning: Columns (3) have mixed types. Specify dtype option on import or set low_memory=False.\n",
      "  dft = pd.read_csv(\"../datasets/dataset_infracoes_final/dataset_infracoes_final.csv\", sep=';')\n"
     ]
    }
   ],
   "source": [
    "dft = pd.read_csv(\"../datasets/dataset_infracoes_final/dataset_infracoes_final.csv\", sep=';') "
   ]
  },
  {
   "cell_type": "markdown",
   "id": "94c38e6d",
   "metadata": {},
   "source": [
    "## Visualizar informações das tabelas"
   ]
  },
  {
   "cell_type": "code",
   "execution_count": 3,
   "id": "301dc7b9",
   "metadata": {},
   "outputs": [
    {
     "data": {
      "text/html": [
       "<div>\n",
       "<style scoped>\n",
       "    .dataframe tbody tr th:only-of-type {\n",
       "        vertical-align: middle;\n",
       "    }\n",
       "\n",
       "    .dataframe tbody tr th {\n",
       "        vertical-align: top;\n",
       "    }\n",
       "\n",
       "    .dataframe thead th {\n",
       "        text-align: right;\n",
       "    }\n",
       "</style>\n",
       "<table border=\"1\" class=\"dataframe\">\n",
       "  <thead>\n",
       "    <tr style=\"text-align: right;\">\n",
       "      <th></th>\n",
       "      <th>datainfracao</th>\n",
       "      <th>horainfracao</th>\n",
       "      <th>dataimplantacao</th>\n",
       "      <th>agenteequipamento</th>\n",
       "      <th>infracao</th>\n",
       "      <th>descricaoinfracao</th>\n",
       "      <th>amparolegal</th>\n",
       "      <th>localcometimento</th>\n",
       "    </tr>\n",
       "  </thead>\n",
       "  <tbody>\n",
       "    <tr>\n",
       "      <th>0</th>\n",
       "      <td>2023-01-01</td>\n",
       "      <td>00:01:00</td>\n",
       "      <td>2023-01-06</td>\n",
       "      <td>Código 8 - AUTOS NO TALÃO ELETRÔNICO</td>\n",
       "      <td>7234</td>\n",
       "      <td>Quando o veículo estiver em movimento deixar d...</td>\n",
       "      <td>Art. 250, Inc. I, alínea a</td>\n",
       "      <td>RUA RIBEIRO DE BRITO, SOB O SEMAFORO N. 155   ...</td>\n",
       "    </tr>\n",
       "    <tr>\n",
       "      <th>1</th>\n",
       "      <td>2023-01-01</td>\n",
       "      <td>00:27:00</td>\n",
       "      <td>2023-01-06</td>\n",
       "      <td>Código 8 - AUTOS NO TALÃO ELETRÔNICO</td>\n",
       "      <td>5835</td>\n",
       "      <td>Desobedecer às ordens emanadas da autoridade c...</td>\n",
       "      <td>Art. 195</td>\n",
       "      <td>RUA DOS NAVEGANTES, CRUZAMENTO COM A RUA PADRE...</td>\n",
       "    </tr>\n",
       "    <tr>\n",
       "      <th>2</th>\n",
       "      <td>2023-01-01</td>\n",
       "      <td>00:27:00</td>\n",
       "      <td>2023-01-06</td>\n",
       "      <td>Código 8 - AUTOS NO TALÃO ELETRÔNICO</td>\n",
       "      <td>5215</td>\n",
       "      <td>Dirigir ameaçando os pedestres que estejam atr...</td>\n",
       "      <td>Art. 170</td>\n",
       "      <td>RUA DOS NAVEGANTES, CRUZAMENTO COM A RUA PADRE...</td>\n",
       "    </tr>\n",
       "    <tr>\n",
       "      <th>3</th>\n",
       "      <td>2023-01-01</td>\n",
       "      <td>00:52:00</td>\n",
       "      <td>2023-01-06</td>\n",
       "      <td>Código 8 - AUTOS NO TALÃO ELETRÔNICO</td>\n",
       "      <td>5550</td>\n",
       "      <td>Estacionar o veículo em locais e horários proi...</td>\n",
       "      <td>Art. 181, Inc. XVIII</td>\n",
       "      <td>AVENIDA ENGENHEIRO DOMINGOS FERREIRA, EM FRENT...</td>\n",
       "    </tr>\n",
       "    <tr>\n",
       "      <th>4</th>\n",
       "      <td>2023-01-01</td>\n",
       "      <td>00:52:00</td>\n",
       "      <td>2023-01-06</td>\n",
       "      <td>Código 8 - AUTOS NO TALÃO ELETRÔNICO</td>\n",
       "      <td>5550</td>\n",
       "      <td>Estacionar o veículo em locais e horários proi...</td>\n",
       "      <td>Art. 181, Inc. XVIII</td>\n",
       "      <td>AVENIDA ENGENHEIRO DOMINGOS FERREIRA, EM FRENT...</td>\n",
       "    </tr>\n",
       "  </tbody>\n",
       "</table>\n",
       "</div>"
      ],
      "text/plain": [
       "  datainfracao horainfracao dataimplantacao  \\\n",
       "0   2023-01-01     00:01:00      2023-01-06   \n",
       "1   2023-01-01     00:27:00      2023-01-06   \n",
       "2   2023-01-01     00:27:00      2023-01-06   \n",
       "3   2023-01-01     00:52:00      2023-01-06   \n",
       "4   2023-01-01     00:52:00      2023-01-06   \n",
       "\n",
       "                       agenteequipamento  infracao  \\\n",
       "0  Código 8 - AUTOS NO TALÃO ELETRÔNICO       7234   \n",
       "1  Código 8 - AUTOS NO TALÃO ELETRÔNICO       5835   \n",
       "2  Código 8 - AUTOS NO TALÃO ELETRÔNICO       5215   \n",
       "3  Código 8 - AUTOS NO TALÃO ELETRÔNICO       5550   \n",
       "4  Código 8 - AUTOS NO TALÃO ELETRÔNICO       5550   \n",
       "\n",
       "                                   descricaoinfracao  \\\n",
       "0  Quando o veículo estiver em movimento deixar d...   \n",
       "1  Desobedecer às ordens emanadas da autoridade c...   \n",
       "2  Dirigir ameaçando os pedestres que estejam atr...   \n",
       "3  Estacionar o veículo em locais e horários proi...   \n",
       "4  Estacionar o veículo em locais e horários proi...   \n",
       "\n",
       "                        amparolegal  \\\n",
       "0  Art. 250, Inc. I, alínea a         \n",
       "1  Art. 195                           \n",
       "2  Art. 170                           \n",
       "3  Art. 181, Inc. XVIII               \n",
       "4  Art. 181, Inc. XVIII               \n",
       "\n",
       "                                    localcometimento  \n",
       "0  RUA RIBEIRO DE BRITO, SOB O SEMAFORO N. 155   ...  \n",
       "1  RUA DOS NAVEGANTES, CRUZAMENTO COM A RUA PADRE...  \n",
       "2  RUA DOS NAVEGANTES, CRUZAMENTO COM A RUA PADRE...  \n",
       "3  AVENIDA ENGENHEIRO DOMINGOS FERREIRA, EM FRENT...  \n",
       "4  AVENIDA ENGENHEIRO DOMINGOS FERREIRA, EM FRENT...  "
      ]
     },
     "execution_count": 3,
     "metadata": {},
     "output_type": "execute_result"
    }
   ],
   "source": [
    "dft.head()"
   ]
  },
  {
   "cell_type": "code",
   "execution_count": 4,
   "id": "52817ac6",
   "metadata": {},
   "outputs": [
    {
     "name": "stdout",
     "output_type": "stream",
     "text": [
      "<class 'pandas.core.frame.DataFrame'>\n",
      "RangeIndex: 1064812 entries, 0 to 1064811\n",
      "Data columns (total 8 columns):\n",
      " #   Column             Non-Null Count    Dtype \n",
      "---  ------             --------------    ----- \n",
      " 0   datainfracao       1064812 non-null  object\n",
      " 1   horainfracao       1064812 non-null  object\n",
      " 2   dataimplantacao    1064812 non-null  object\n",
      " 3   agenteequipamento  1002028 non-null  object\n",
      " 4   infracao           1064812 non-null  int64 \n",
      " 5   descricaoinfracao  1064812 non-null  object\n",
      " 6   amparolegal        1064812 non-null  object\n",
      " 7   localcometimento   1064812 non-null  object\n",
      "dtypes: int64(1), object(7)\n",
      "memory usage: 65.0+ MB\n"
     ]
    }
   ],
   "source": [
    "dft.info()"
   ]
  },
  {
   "cell_type": "markdown",
   "id": "cf3e8de2",
   "metadata": {},
   "source": [
    "As bases não tem valores nulos, inválidos ou duplicados então tornasse possível o tratamento das três panilhas de uma unica vez."
   ]
  },
  {
   "cell_type": "markdown",
   "id": "8040652d",
   "metadata": {},
   "source": [
    "## Tratamento dos dados"
   ]
  },
  {
   "cell_type": "markdown",
   "id": "4da93e8e",
   "metadata": {},
   "source": [
    "### Renomeando as colunas"
   ]
  },
  {
   "cell_type": "code",
   "execution_count": 5,
   "id": "f26fe601",
   "metadata": {},
   "outputs": [],
   "source": [
    "dft = dft.rename(columns={\n",
    "    'datainfracao': 'data_infracao',\n",
    "    'horainfracao': 'hora_infracao',\n",
    "    'dataimplantacao': 'data_implantacao',\n",
    "    'agenteequipamento': 'agente_equipamento',\n",
    "    'infracao': 'cod_infracao',\n",
    "    'descricaoinfracao': 'descricao_infracao',\n",
    "    'amparolegal': 'amparo_legal',\n",
    "    'localcometimento': 'local_cometimento'\n",
    "})"
   ]
  },
  {
   "cell_type": "code",
   "execution_count": 40,
   "id": "47dad50c",
   "metadata": {},
   "outputs": [
    {
     "data": {
      "text/html": [
       "<div>\n",
       "<style scoped>\n",
       "    .dataframe tbody tr th:only-of-type {\n",
       "        vertical-align: middle;\n",
       "    }\n",
       "\n",
       "    .dataframe tbody tr th {\n",
       "        vertical-align: top;\n",
       "    }\n",
       "\n",
       "    .dataframe thead th {\n",
       "        text-align: right;\n",
       "    }\n",
       "</style>\n",
       "<table border=\"1\" class=\"dataframe\">\n",
       "  <thead>\n",
       "    <tr style=\"text-align: right;\">\n",
       "      <th></th>\n",
       "      <th>data_infracao</th>\n",
       "      <th>hora_infracao</th>\n",
       "      <th>data_implantacao</th>\n",
       "      <th>agente_equipamento</th>\n",
       "      <th>cod_infracao</th>\n",
       "      <th>descricao_infracao</th>\n",
       "      <th>amparo_legal</th>\n",
       "      <th>local_cometimento</th>\n",
       "    </tr>\n",
       "  </thead>\n",
       "  <tbody>\n",
       "    <tr>\n",
       "      <th>0</th>\n",
       "      <td>2023-01-01</td>\n",
       "      <td>00:01:00</td>\n",
       "      <td>2023-01-06</td>\n",
       "      <td>Código 8 - AUTOS NO TALÃO ELETRÔNICO</td>\n",
       "      <td>7234</td>\n",
       "      <td>Quando o veículo estiver em movimento deixar d...</td>\n",
       "      <td>Art. 250, Inc. I, alínea a</td>\n",
       "      <td>RUA RIBEIRO DE BRITO, SOB O SEMAFORO N. 155   ...</td>\n",
       "    </tr>\n",
       "    <tr>\n",
       "      <th>1</th>\n",
       "      <td>2023-01-01</td>\n",
       "      <td>00:27:00</td>\n",
       "      <td>2023-01-06</td>\n",
       "      <td>Código 8 - AUTOS NO TALÃO ELETRÔNICO</td>\n",
       "      <td>5835</td>\n",
       "      <td>Desobedecer às ordens emanadas da autoridade c...</td>\n",
       "      <td>Art. 195</td>\n",
       "      <td>RUA DOS NAVEGANTES, CRUZAMENTO COM A RUA PADRE...</td>\n",
       "    </tr>\n",
       "    <tr>\n",
       "      <th>2</th>\n",
       "      <td>2023-01-01</td>\n",
       "      <td>00:27:00</td>\n",
       "      <td>2023-01-06</td>\n",
       "      <td>Código 8 - AUTOS NO TALÃO ELETRÔNICO</td>\n",
       "      <td>5215</td>\n",
       "      <td>Dirigir ameaçando os pedestres que estejam atr...</td>\n",
       "      <td>Art. 170</td>\n",
       "      <td>RUA DOS NAVEGANTES, CRUZAMENTO COM A RUA PADRE...</td>\n",
       "    </tr>\n",
       "    <tr>\n",
       "      <th>3</th>\n",
       "      <td>2023-01-01</td>\n",
       "      <td>00:52:00</td>\n",
       "      <td>2023-01-06</td>\n",
       "      <td>Código 8 - AUTOS NO TALÃO ELETRÔNICO</td>\n",
       "      <td>5550</td>\n",
       "      <td>Estacionar o veículo em locais e horários proi...</td>\n",
       "      <td>Art. 181, Inc. XVIII</td>\n",
       "      <td>AVENIDA ENGENHEIRO DOMINGOS FERREIRA, EM FRENT...</td>\n",
       "    </tr>\n",
       "    <tr>\n",
       "      <th>4</th>\n",
       "      <td>2023-01-01</td>\n",
       "      <td>00:52:00</td>\n",
       "      <td>2023-01-06</td>\n",
       "      <td>Código 8 - AUTOS NO TALÃO ELETRÔNICO</td>\n",
       "      <td>5550</td>\n",
       "      <td>Estacionar o veículo em locais e horários proi...</td>\n",
       "      <td>Art. 181, Inc. XVIII</td>\n",
       "      <td>AVENIDA ENGENHEIRO DOMINGOS FERREIRA, EM FRENT...</td>\n",
       "    </tr>\n",
       "  </tbody>\n",
       "</table>\n",
       "</div>"
      ],
      "text/plain": [
       "  data_infracao hora_infracao data_implantacao  \\\n",
       "0    2023-01-01      00:01:00       2023-01-06   \n",
       "1    2023-01-01      00:27:00       2023-01-06   \n",
       "2    2023-01-01      00:27:00       2023-01-06   \n",
       "3    2023-01-01      00:52:00       2023-01-06   \n",
       "4    2023-01-01      00:52:00       2023-01-06   \n",
       "\n",
       "                      agente_equipamento  cod_infracao  \\\n",
       "0  Código 8 - AUTOS NO TALÃO ELETRÔNICO           7234   \n",
       "1  Código 8 - AUTOS NO TALÃO ELETRÔNICO           5835   \n",
       "2  Código 8 - AUTOS NO TALÃO ELETRÔNICO           5215   \n",
       "3  Código 8 - AUTOS NO TALÃO ELETRÔNICO           5550   \n",
       "4  Código 8 - AUTOS NO TALÃO ELETRÔNICO           5550   \n",
       "\n",
       "                                  descricao_infracao  \\\n",
       "0  Quando o veículo estiver em movimento deixar d...   \n",
       "1  Desobedecer às ordens emanadas da autoridade c...   \n",
       "2  Dirigir ameaçando os pedestres que estejam atr...   \n",
       "3  Estacionar o veículo em locais e horários proi...   \n",
       "4  Estacionar o veículo em locais e horários proi...   \n",
       "\n",
       "                       amparo_legal  \\\n",
       "0  Art. 250, Inc. I, alínea a         \n",
       "1  Art. 195                           \n",
       "2  Art. 170                           \n",
       "3  Art. 181, Inc. XVIII               \n",
       "4  Art. 181, Inc. XVIII               \n",
       "\n",
       "                                   local_cometimento  \n",
       "0  RUA RIBEIRO DE BRITO, SOB O SEMAFORO N. 155   ...  \n",
       "1  RUA DOS NAVEGANTES, CRUZAMENTO COM A RUA PADRE...  \n",
       "2  RUA DOS NAVEGANTES, CRUZAMENTO COM A RUA PADRE...  \n",
       "3  AVENIDA ENGENHEIRO DOMINGOS FERREIRA, EM FRENT...  \n",
       "4  AVENIDA ENGENHEIRO DOMINGOS FERREIRA, EM FRENT...  "
      ]
     },
     "execution_count": 40,
     "metadata": {},
     "output_type": "execute_result"
    }
   ],
   "source": [
    "dft.head()"
   ]
  },
  {
   "cell_type": "markdown",
   "id": "a4ba24cf",
   "metadata": {},
   "source": [
    "### Coluna amparolegal\n"
   ]
  },
  {
   "cell_type": "code",
   "execution_count": 6,
   "id": "bb63e738",
   "metadata": {},
   "outputs": [],
   "source": [
    "dft[['artigo', 'subdivisao_artigo']] = dft['amparo_legal'].str.split(',', n=1, expand=True)"
   ]
  },
  {
   "cell_type": "code",
   "execution_count": 43,
   "id": "3920eb91",
   "metadata": {},
   "outputs": [
    {
     "data": {
      "text/html": [
       "<div>\n",
       "<style scoped>\n",
       "    .dataframe tbody tr th:only-of-type {\n",
       "        vertical-align: middle;\n",
       "    }\n",
       "\n",
       "    .dataframe tbody tr th {\n",
       "        vertical-align: top;\n",
       "    }\n",
       "\n",
       "    .dataframe thead th {\n",
       "        text-align: right;\n",
       "    }\n",
       "</style>\n",
       "<table border=\"1\" class=\"dataframe\">\n",
       "  <thead>\n",
       "    <tr style=\"text-align: right;\">\n",
       "      <th></th>\n",
       "      <th>data_infracao</th>\n",
       "      <th>hora_infracao</th>\n",
       "      <th>data_implantacao</th>\n",
       "      <th>agente_equipamento</th>\n",
       "      <th>cod_infracao</th>\n",
       "      <th>descricao_infracao</th>\n",
       "      <th>amparo_legal</th>\n",
       "      <th>local_cometimento</th>\n",
       "      <th>artigo</th>\n",
       "      <th>subdivisao_artigo</th>\n",
       "    </tr>\n",
       "  </thead>\n",
       "  <tbody>\n",
       "    <tr>\n",
       "      <th>0</th>\n",
       "      <td>2023-01-01</td>\n",
       "      <td>00:01:00</td>\n",
       "      <td>2023-01-06</td>\n",
       "      <td>Código 8 - AUTOS NO TALÃO ELETRÔNICO</td>\n",
       "      <td>7234</td>\n",
       "      <td>Quando o veículo estiver em movimento deixar d...</td>\n",
       "      <td>Art. 250, Inc. I, alínea a</td>\n",
       "      <td>RUA RIBEIRO DE BRITO, SOB O SEMAFORO N. 155   ...</td>\n",
       "      <td>Art. 250</td>\n",
       "      <td>Inc. I, alínea a</td>\n",
       "    </tr>\n",
       "    <tr>\n",
       "      <th>1</th>\n",
       "      <td>2023-01-01</td>\n",
       "      <td>00:27:00</td>\n",
       "      <td>2023-01-06</td>\n",
       "      <td>Código 8 - AUTOS NO TALÃO ELETRÔNICO</td>\n",
       "      <td>5835</td>\n",
       "      <td>Desobedecer às ordens emanadas da autoridade c...</td>\n",
       "      <td>Art. 195</td>\n",
       "      <td>RUA DOS NAVEGANTES, CRUZAMENTO COM A RUA PADRE...</td>\n",
       "      <td>Art. 195</td>\n",
       "      <td>None</td>\n",
       "    </tr>\n",
       "    <tr>\n",
       "      <th>2</th>\n",
       "      <td>2023-01-01</td>\n",
       "      <td>00:27:00</td>\n",
       "      <td>2023-01-06</td>\n",
       "      <td>Código 8 - AUTOS NO TALÃO ELETRÔNICO</td>\n",
       "      <td>5215</td>\n",
       "      <td>Dirigir ameaçando os pedestres que estejam atr...</td>\n",
       "      <td>Art. 170</td>\n",
       "      <td>RUA DOS NAVEGANTES, CRUZAMENTO COM A RUA PADRE...</td>\n",
       "      <td>Art. 170</td>\n",
       "      <td>None</td>\n",
       "    </tr>\n",
       "    <tr>\n",
       "      <th>3</th>\n",
       "      <td>2023-01-01</td>\n",
       "      <td>00:52:00</td>\n",
       "      <td>2023-01-06</td>\n",
       "      <td>Código 8 - AUTOS NO TALÃO ELETRÔNICO</td>\n",
       "      <td>5550</td>\n",
       "      <td>Estacionar o veículo em locais e horários proi...</td>\n",
       "      <td>Art. 181, Inc. XVIII</td>\n",
       "      <td>AVENIDA ENGENHEIRO DOMINGOS FERREIRA, EM FRENT...</td>\n",
       "      <td>Art. 181</td>\n",
       "      <td>Inc. XVIII</td>\n",
       "    </tr>\n",
       "    <tr>\n",
       "      <th>4</th>\n",
       "      <td>2023-01-01</td>\n",
       "      <td>00:52:00</td>\n",
       "      <td>2023-01-06</td>\n",
       "      <td>Código 8 - AUTOS NO TALÃO ELETRÔNICO</td>\n",
       "      <td>5550</td>\n",
       "      <td>Estacionar o veículo em locais e horários proi...</td>\n",
       "      <td>Art. 181, Inc. XVIII</td>\n",
       "      <td>AVENIDA ENGENHEIRO DOMINGOS FERREIRA, EM FRENT...</td>\n",
       "      <td>Art. 181</td>\n",
       "      <td>Inc. XVIII</td>\n",
       "    </tr>\n",
       "  </tbody>\n",
       "</table>\n",
       "</div>"
      ],
      "text/plain": [
       "  data_infracao hora_infracao data_implantacao  \\\n",
       "0    2023-01-01      00:01:00       2023-01-06   \n",
       "1    2023-01-01      00:27:00       2023-01-06   \n",
       "2    2023-01-01      00:27:00       2023-01-06   \n",
       "3    2023-01-01      00:52:00       2023-01-06   \n",
       "4    2023-01-01      00:52:00       2023-01-06   \n",
       "\n",
       "                      agente_equipamento  cod_infracao  \\\n",
       "0  Código 8 - AUTOS NO TALÃO ELETRÔNICO           7234   \n",
       "1  Código 8 - AUTOS NO TALÃO ELETRÔNICO           5835   \n",
       "2  Código 8 - AUTOS NO TALÃO ELETRÔNICO           5215   \n",
       "3  Código 8 - AUTOS NO TALÃO ELETRÔNICO           5550   \n",
       "4  Código 8 - AUTOS NO TALÃO ELETRÔNICO           5550   \n",
       "\n",
       "                                  descricao_infracao  \\\n",
       "0  Quando o veículo estiver em movimento deixar d...   \n",
       "1  Desobedecer às ordens emanadas da autoridade c...   \n",
       "2  Dirigir ameaçando os pedestres que estejam atr...   \n",
       "3  Estacionar o veículo em locais e horários proi...   \n",
       "4  Estacionar o veículo em locais e horários proi...   \n",
       "\n",
       "                       amparo_legal  \\\n",
       "0  Art. 250, Inc. I, alínea a         \n",
       "1  Art. 195                           \n",
       "2  Art. 170                           \n",
       "3  Art. 181, Inc. XVIII               \n",
       "4  Art. 181, Inc. XVIII               \n",
       "\n",
       "                                   local_cometimento  \\\n",
       "0  RUA RIBEIRO DE BRITO, SOB O SEMAFORO N. 155   ...   \n",
       "1  RUA DOS NAVEGANTES, CRUZAMENTO COM A RUA PADRE...   \n",
       "2  RUA DOS NAVEGANTES, CRUZAMENTO COM A RUA PADRE...   \n",
       "3  AVENIDA ENGENHEIRO DOMINGOS FERREIRA, EM FRENT...   \n",
       "4  AVENIDA ENGENHEIRO DOMINGOS FERREIRA, EM FRENT...   \n",
       "\n",
       "                             artigo        subdivisao_artigo  \n",
       "0                          Art. 250   Inc. I, alínea a        \n",
       "1  Art. 195                                             None  \n",
       "2  Art. 170                                             None  \n",
       "3                          Art. 181   Inc. XVIII              \n",
       "4                          Art. 181   Inc. XVIII              "
      ]
     },
     "execution_count": 43,
     "metadata": {},
     "output_type": "execute_result"
    }
   ],
   "source": [
    "dft.head()"
   ]
  },
  {
   "cell_type": "code",
   "execution_count": 7,
   "id": "a1a42014",
   "metadata": {},
   "outputs": [],
   "source": [
    "dft['artigo'] = dft['artigo'].str.strip()\n",
    "dft['subdivisao_artigo'] = dft['subdivisao_artigo'].str.strip()"
   ]
  },
  {
   "cell_type": "code",
   "execution_count": 46,
   "id": "27916965",
   "metadata": {},
   "outputs": [
    {
     "data": {
      "text/html": [
       "<div>\n",
       "<style scoped>\n",
       "    .dataframe tbody tr th:only-of-type {\n",
       "        vertical-align: middle;\n",
       "    }\n",
       "\n",
       "    .dataframe tbody tr th {\n",
       "        vertical-align: top;\n",
       "    }\n",
       "\n",
       "    .dataframe thead th {\n",
       "        text-align: right;\n",
       "    }\n",
       "</style>\n",
       "<table border=\"1\" class=\"dataframe\">\n",
       "  <thead>\n",
       "    <tr style=\"text-align: right;\">\n",
       "      <th></th>\n",
       "      <th>data_infracao</th>\n",
       "      <th>hora_infracao</th>\n",
       "      <th>data_implantacao</th>\n",
       "      <th>agente_equipamento</th>\n",
       "      <th>cod_infracao</th>\n",
       "      <th>descricao_infracao</th>\n",
       "      <th>amparo_legal</th>\n",
       "      <th>local_cometimento</th>\n",
       "      <th>artigo</th>\n",
       "      <th>subdivisao_artigo</th>\n",
       "    </tr>\n",
       "  </thead>\n",
       "  <tbody>\n",
       "    <tr>\n",
       "      <th>0</th>\n",
       "      <td>2023-01-01</td>\n",
       "      <td>00:01:00</td>\n",
       "      <td>2023-01-06</td>\n",
       "      <td>Código 8 - AUTOS NO TALÃO ELETRÔNICO</td>\n",
       "      <td>7234</td>\n",
       "      <td>Quando o veículo estiver em movimento deixar d...</td>\n",
       "      <td>Art. 250, Inc. I, alínea a</td>\n",
       "      <td>RUA RIBEIRO DE BRITO, SOB O SEMAFORO N. 155   ...</td>\n",
       "      <td>Art. 250</td>\n",
       "      <td>Inc. I, alínea a</td>\n",
       "    </tr>\n",
       "    <tr>\n",
       "      <th>1</th>\n",
       "      <td>2023-01-01</td>\n",
       "      <td>00:27:00</td>\n",
       "      <td>2023-01-06</td>\n",
       "      <td>Código 8 - AUTOS NO TALÃO ELETRÔNICO</td>\n",
       "      <td>5835</td>\n",
       "      <td>Desobedecer às ordens emanadas da autoridade c...</td>\n",
       "      <td>Art. 195</td>\n",
       "      <td>RUA DOS NAVEGANTES, CRUZAMENTO COM A RUA PADRE...</td>\n",
       "      <td>Art. 195</td>\n",
       "      <td>None</td>\n",
       "    </tr>\n",
       "    <tr>\n",
       "      <th>2</th>\n",
       "      <td>2023-01-01</td>\n",
       "      <td>00:27:00</td>\n",
       "      <td>2023-01-06</td>\n",
       "      <td>Código 8 - AUTOS NO TALÃO ELETRÔNICO</td>\n",
       "      <td>5215</td>\n",
       "      <td>Dirigir ameaçando os pedestres que estejam atr...</td>\n",
       "      <td>Art. 170</td>\n",
       "      <td>RUA DOS NAVEGANTES, CRUZAMENTO COM A RUA PADRE...</td>\n",
       "      <td>Art. 170</td>\n",
       "      <td>None</td>\n",
       "    </tr>\n",
       "    <tr>\n",
       "      <th>3</th>\n",
       "      <td>2023-01-01</td>\n",
       "      <td>00:52:00</td>\n",
       "      <td>2023-01-06</td>\n",
       "      <td>Código 8 - AUTOS NO TALÃO ELETRÔNICO</td>\n",
       "      <td>5550</td>\n",
       "      <td>Estacionar o veículo em locais e horários proi...</td>\n",
       "      <td>Art. 181, Inc. XVIII</td>\n",
       "      <td>AVENIDA ENGENHEIRO DOMINGOS FERREIRA, EM FRENT...</td>\n",
       "      <td>Art. 181</td>\n",
       "      <td>Inc. XVIII</td>\n",
       "    </tr>\n",
       "    <tr>\n",
       "      <th>4</th>\n",
       "      <td>2023-01-01</td>\n",
       "      <td>00:52:00</td>\n",
       "      <td>2023-01-06</td>\n",
       "      <td>Código 8 - AUTOS NO TALÃO ELETRÔNICO</td>\n",
       "      <td>5550</td>\n",
       "      <td>Estacionar o veículo em locais e horários proi...</td>\n",
       "      <td>Art. 181, Inc. XVIII</td>\n",
       "      <td>AVENIDA ENGENHEIRO DOMINGOS FERREIRA, EM FRENT...</td>\n",
       "      <td>Art. 181</td>\n",
       "      <td>Inc. XVIII</td>\n",
       "    </tr>\n",
       "  </tbody>\n",
       "</table>\n",
       "</div>"
      ],
      "text/plain": [
       "  data_infracao hora_infracao data_implantacao  \\\n",
       "0    2023-01-01      00:01:00       2023-01-06   \n",
       "1    2023-01-01      00:27:00       2023-01-06   \n",
       "2    2023-01-01      00:27:00       2023-01-06   \n",
       "3    2023-01-01      00:52:00       2023-01-06   \n",
       "4    2023-01-01      00:52:00       2023-01-06   \n",
       "\n",
       "                      agente_equipamento  cod_infracao  \\\n",
       "0  Código 8 - AUTOS NO TALÃO ELETRÔNICO           7234   \n",
       "1  Código 8 - AUTOS NO TALÃO ELETRÔNICO           5835   \n",
       "2  Código 8 - AUTOS NO TALÃO ELETRÔNICO           5215   \n",
       "3  Código 8 - AUTOS NO TALÃO ELETRÔNICO           5550   \n",
       "4  Código 8 - AUTOS NO TALÃO ELETRÔNICO           5550   \n",
       "\n",
       "                                  descricao_infracao  \\\n",
       "0  Quando o veículo estiver em movimento deixar d...   \n",
       "1  Desobedecer às ordens emanadas da autoridade c...   \n",
       "2  Dirigir ameaçando os pedestres que estejam atr...   \n",
       "3  Estacionar o veículo em locais e horários proi...   \n",
       "4  Estacionar o veículo em locais e horários proi...   \n",
       "\n",
       "                       amparo_legal  \\\n",
       "0  Art. 250, Inc. I, alínea a         \n",
       "1  Art. 195                           \n",
       "2  Art. 170                           \n",
       "3  Art. 181, Inc. XVIII               \n",
       "4  Art. 181, Inc. XVIII               \n",
       "\n",
       "                                   local_cometimento    artigo  \\\n",
       "0  RUA RIBEIRO DE BRITO, SOB O SEMAFORO N. 155   ...  Art. 250   \n",
       "1  RUA DOS NAVEGANTES, CRUZAMENTO COM A RUA PADRE...  Art. 195   \n",
       "2  RUA DOS NAVEGANTES, CRUZAMENTO COM A RUA PADRE...  Art. 170   \n",
       "3  AVENIDA ENGENHEIRO DOMINGOS FERREIRA, EM FRENT...  Art. 181   \n",
       "4  AVENIDA ENGENHEIRO DOMINGOS FERREIRA, EM FRENT...  Art. 181   \n",
       "\n",
       "  subdivisao_artigo  \n",
       "0  Inc. I, alínea a  \n",
       "1              None  \n",
       "2              None  \n",
       "3        Inc. XVIII  \n",
       "4        Inc. XVIII  "
      ]
     },
     "execution_count": 46,
     "metadata": {},
     "output_type": "execute_result"
    }
   ],
   "source": [
    "dft.head()"
   ]
  },
  {
   "cell_type": "code",
   "execution_count": 8,
   "id": "1195a6d3",
   "metadata": {},
   "outputs": [],
   "source": [
    "dft.drop('amparo_legal', axis = 1, inplace=True)"
   ]
  },
  {
   "cell_type": "code",
   "execution_count": 9,
   "id": "c2c6a994",
   "metadata": {},
   "outputs": [
    {
     "data": {
      "text/html": [
       "<div>\n",
       "<style scoped>\n",
       "    .dataframe tbody tr th:only-of-type {\n",
       "        vertical-align: middle;\n",
       "    }\n",
       "\n",
       "    .dataframe tbody tr th {\n",
       "        vertical-align: top;\n",
       "    }\n",
       "\n",
       "    .dataframe thead th {\n",
       "        text-align: right;\n",
       "    }\n",
       "</style>\n",
       "<table border=\"1\" class=\"dataframe\">\n",
       "  <thead>\n",
       "    <tr style=\"text-align: right;\">\n",
       "      <th></th>\n",
       "      <th>data_infracao</th>\n",
       "      <th>hora_infracao</th>\n",
       "      <th>data_implantacao</th>\n",
       "      <th>agente_equipamento</th>\n",
       "      <th>cod_infracao</th>\n",
       "      <th>descricao_infracao</th>\n",
       "      <th>local_cometimento</th>\n",
       "      <th>artigo</th>\n",
       "      <th>subdivisao_artigo</th>\n",
       "    </tr>\n",
       "  </thead>\n",
       "  <tbody>\n",
       "    <tr>\n",
       "      <th>0</th>\n",
       "      <td>2023-01-01</td>\n",
       "      <td>00:01:00</td>\n",
       "      <td>2023-01-06</td>\n",
       "      <td>Código 8 - AUTOS NO TALÃO ELETRÔNICO</td>\n",
       "      <td>7234</td>\n",
       "      <td>Quando o veículo estiver em movimento deixar d...</td>\n",
       "      <td>RUA RIBEIRO DE BRITO, SOB O SEMAFORO N. 155   ...</td>\n",
       "      <td>Art. 250</td>\n",
       "      <td>Inc. I, alínea a</td>\n",
       "    </tr>\n",
       "    <tr>\n",
       "      <th>1</th>\n",
       "      <td>2023-01-01</td>\n",
       "      <td>00:27:00</td>\n",
       "      <td>2023-01-06</td>\n",
       "      <td>Código 8 - AUTOS NO TALÃO ELETRÔNICO</td>\n",
       "      <td>5835</td>\n",
       "      <td>Desobedecer às ordens emanadas da autoridade c...</td>\n",
       "      <td>RUA DOS NAVEGANTES, CRUZAMENTO COM A RUA PADRE...</td>\n",
       "      <td>Art. 195</td>\n",
       "      <td>None</td>\n",
       "    </tr>\n",
       "    <tr>\n",
       "      <th>2</th>\n",
       "      <td>2023-01-01</td>\n",
       "      <td>00:27:00</td>\n",
       "      <td>2023-01-06</td>\n",
       "      <td>Código 8 - AUTOS NO TALÃO ELETRÔNICO</td>\n",
       "      <td>5215</td>\n",
       "      <td>Dirigir ameaçando os pedestres que estejam atr...</td>\n",
       "      <td>RUA DOS NAVEGANTES, CRUZAMENTO COM A RUA PADRE...</td>\n",
       "      <td>Art. 170</td>\n",
       "      <td>None</td>\n",
       "    </tr>\n",
       "    <tr>\n",
       "      <th>3</th>\n",
       "      <td>2023-01-01</td>\n",
       "      <td>00:52:00</td>\n",
       "      <td>2023-01-06</td>\n",
       "      <td>Código 8 - AUTOS NO TALÃO ELETRÔNICO</td>\n",
       "      <td>5550</td>\n",
       "      <td>Estacionar o veículo em locais e horários proi...</td>\n",
       "      <td>AVENIDA ENGENHEIRO DOMINGOS FERREIRA, EM FRENT...</td>\n",
       "      <td>Art. 181</td>\n",
       "      <td>Inc. XVIII</td>\n",
       "    </tr>\n",
       "    <tr>\n",
       "      <th>4</th>\n",
       "      <td>2023-01-01</td>\n",
       "      <td>00:52:00</td>\n",
       "      <td>2023-01-06</td>\n",
       "      <td>Código 8 - AUTOS NO TALÃO ELETRÔNICO</td>\n",
       "      <td>5550</td>\n",
       "      <td>Estacionar o veículo em locais e horários proi...</td>\n",
       "      <td>AVENIDA ENGENHEIRO DOMINGOS FERREIRA, EM FRENT...</td>\n",
       "      <td>Art. 181</td>\n",
       "      <td>Inc. XVIII</td>\n",
       "    </tr>\n",
       "  </tbody>\n",
       "</table>\n",
       "</div>"
      ],
      "text/plain": [
       "  data_infracao hora_infracao data_implantacao  \\\n",
       "0    2023-01-01      00:01:00       2023-01-06   \n",
       "1    2023-01-01      00:27:00       2023-01-06   \n",
       "2    2023-01-01      00:27:00       2023-01-06   \n",
       "3    2023-01-01      00:52:00       2023-01-06   \n",
       "4    2023-01-01      00:52:00       2023-01-06   \n",
       "\n",
       "                      agente_equipamento  cod_infracao  \\\n",
       "0  Código 8 - AUTOS NO TALÃO ELETRÔNICO           7234   \n",
       "1  Código 8 - AUTOS NO TALÃO ELETRÔNICO           5835   \n",
       "2  Código 8 - AUTOS NO TALÃO ELETRÔNICO           5215   \n",
       "3  Código 8 - AUTOS NO TALÃO ELETRÔNICO           5550   \n",
       "4  Código 8 - AUTOS NO TALÃO ELETRÔNICO           5550   \n",
       "\n",
       "                                  descricao_infracao  \\\n",
       "0  Quando o veículo estiver em movimento deixar d...   \n",
       "1  Desobedecer às ordens emanadas da autoridade c...   \n",
       "2  Dirigir ameaçando os pedestres que estejam atr...   \n",
       "3  Estacionar o veículo em locais e horários proi...   \n",
       "4  Estacionar o veículo em locais e horários proi...   \n",
       "\n",
       "                                   local_cometimento    artigo  \\\n",
       "0  RUA RIBEIRO DE BRITO, SOB O SEMAFORO N. 155   ...  Art. 250   \n",
       "1  RUA DOS NAVEGANTES, CRUZAMENTO COM A RUA PADRE...  Art. 195   \n",
       "2  RUA DOS NAVEGANTES, CRUZAMENTO COM A RUA PADRE...  Art. 170   \n",
       "3  AVENIDA ENGENHEIRO DOMINGOS FERREIRA, EM FRENT...  Art. 181   \n",
       "4  AVENIDA ENGENHEIRO DOMINGOS FERREIRA, EM FRENT...  Art. 181   \n",
       "\n",
       "  subdivisao_artigo  \n",
       "0  Inc. I, alínea a  \n",
       "1              None  \n",
       "2              None  \n",
       "3        Inc. XVIII  \n",
       "4        Inc. XVIII  "
      ]
     },
     "execution_count": 9,
     "metadata": {},
     "output_type": "execute_result"
    }
   ],
   "source": [
    "dft.head()"
   ]
  },
  {
   "cell_type": "code",
   "execution_count": 10,
   "id": "542964c0",
   "metadata": {},
   "outputs": [
    {
     "data": {
      "text/plain": [
       "array(['Art. 250', 'Art. 195', 'Art. 170', 'Art. 181', 'Art. 185',\n",
       "       'Art. 208', 'Art. 252', 'Art. 167', 'Art. 218', 'Art. 187',\n",
       "       'Art. 183', 'Art. 207', 'Art. 178', 'Art. 184', 'Art. 244',\n",
       "       'Art. 186', 'Art. 182', 'Art. 230', 'Art. 201', 'Art. 196',\n",
       "       'Art. 206', 'Art. 169', 'ARt. 181', 'Art. 193', 'Art. 197',\n",
       "       'Art. 162', 'Art. 221', 'Art. 210', 'Art. 175', 'Art. 171',\n",
       "       'Art. 211', 'Art. 227', 'Art. 203', 'Art. 214', 'Art. 164',\n",
       "       'Art. 172', 'Art. 216', 'Art. 173', 'Art. 194', 'Art. 174',\n",
       "       'Art. 165-A', 'Art. 163', 'Art.168', 'Art. 220', 'Art. 231',\n",
       "       'Art. 189', 'Art. 215', 'Art. 236', 'Art. 209', 'Art. 191',\n",
       "       'Art. 180', 'Art. 253', 'Art. 232', 'Art. 228', 'Art. 229',\n",
       "       'Art. 239', 'Art. 238', 'Art. 278', 'Art. 165', 'Art. 176',\n",
       "       'Art. 235', 'Art. 205', 'Art. 192', 'SENTIDO OLINDA', 'Art. 190',\n",
       "       'Art.244', 'Art. 202', 'Art. 244 inciso VIII', 'Art. 204',\n",
       "       'Art. 251', 'Art. 188', 'Art. 223', 'Art. 199', 'Art. 254',\n",
       "       'SENTIDO CIDADE/SUBURBIO.', 'Art. 224', 'ILHA DO LEITE',\n",
       "       'Art. 253-A', 'Art. 246', 'Art. 225', 'Art. 249', 'Art. 212',\n",
       "       'Art. 200', 'AO POSTE N. H027335', 'NOSSA SENHORA DO CARMO',\n",
       "       'Art. 213', 'Art. 234'], dtype=object)"
      ]
     },
     "execution_count": 10,
     "metadata": {},
     "output_type": "execute_result"
    }
   ],
   "source": [
    "dft['artigo'].unique()"
   ]
  },
  {
   "cell_type": "markdown",
   "id": "3a2ab172",
   "metadata": {},
   "source": [
    "Tem valores errados pra o artigo. Valores como: 'SENTIDO OLINDA', 'ILHA DO LEITE', 'SENTIDO CIDADE/SUBURBIO.'e 'Art. 244 inciso VIII'"
   ]
  },
  {
   "cell_type": "code",
   "execution_count": 11,
   "id": "092387e7",
   "metadata": {},
   "outputs": [
    {
     "data": {
      "text/html": [
       "<div>\n",
       "<style scoped>\n",
       "    .dataframe tbody tr th:only-of-type {\n",
       "        vertical-align: middle;\n",
       "    }\n",
       "\n",
       "    .dataframe tbody tr th {\n",
       "        vertical-align: top;\n",
       "    }\n",
       "\n",
       "    .dataframe thead th {\n",
       "        text-align: right;\n",
       "    }\n",
       "</style>\n",
       "<table border=\"1\" class=\"dataframe\">\n",
       "  <thead>\n",
       "    <tr style=\"text-align: right;\">\n",
       "      <th></th>\n",
       "      <th>data_infracao</th>\n",
       "      <th>hora_infracao</th>\n",
       "      <th>data_implantacao</th>\n",
       "      <th>agente_equipamento</th>\n",
       "      <th>cod_infracao</th>\n",
       "      <th>descricao_infracao</th>\n",
       "      <th>local_cometimento</th>\n",
       "      <th>artigo</th>\n",
       "      <th>subdivisao_artigo</th>\n",
       "    </tr>\n",
       "  </thead>\n",
       "  <tbody>\n",
       "    <tr>\n",
       "      <th>97799</th>\n",
       "      <td>2023-02-27</td>\n",
       "      <td>15:24:00</td>\n",
       "      <td>2023-03-03</td>\n",
       "      <td>Código 8 - AUTOS NO TALÃO ELETRÔNICO</td>\n",
       "      <td>7633</td>\n",
       "      <td>Dirigir o veículo segurando o telefone celular...</td>\n",
       "      <td>AVENIDA GOVERNADOR AGAMENON MAGALHAES, SOB O S...</td>\n",
       "      <td>SENTIDO OLINDA</td>\n",
       "      <td>None</td>\n",
       "    </tr>\n",
       "    <tr>\n",
       "      <th>156220</th>\n",
       "      <td>2023-04-05</td>\n",
       "      <td>15:55:00</td>\n",
       "      <td>2023-04-11</td>\n",
       "      <td>Código 8 - AUTOS NO TALÃO ELETRÔNICO</td>\n",
       "      <td>7102</td>\n",
       "      <td>Conduzir motoc/moton/transportando carga em de...</td>\n",
       "      <td>AVENIDA RECIFE, EM FRENTE AO N. 5008 SENTIDO B...</td>\n",
       "      <td>Art. 244 inciso VIII</td>\n",
       "      <td>None</td>\n",
       "    </tr>\n",
       "    <tr>\n",
       "      <th>339560</th>\n",
       "      <td>2023-08-24</td>\n",
       "      <td>15:54:00</td>\n",
       "      <td>2023-09-01</td>\n",
       "      <td>Código 8 - AUTOS NO TALÃO ELETRÔNICO</td>\n",
       "      <td>5819</td>\n",
       "      <td>Transitar com veículo em canteiros centrais di...</td>\n",
       "      <td>PRACA DO CAXANGA, LADO OPOSTO AO N. ,2831     ...</td>\n",
       "      <td>SENTIDO CIDADE/SUBURBIO.</td>\n",
       "      <td>None</td>\n",
       "    </tr>\n",
       "    <tr>\n",
       "      <th>390173</th>\n",
       "      <td>2023-10-03</td>\n",
       "      <td>08:34:00</td>\n",
       "      <td>2023-10-05</td>\n",
       "      <td>Código 8 - AUTOS NO TALÃO ELETRÔNICO</td>\n",
       "      <td>6050</td>\n",
       "      <td>Avançar o sinal vermelho do semáforo, exceto o...</td>\n",
       "      <td>RUA PAISSANDU, SOB O SEMAFORO N. 069          ...</td>\n",
       "      <td>ILHA DO LEITE</td>\n",
       "      <td>SENTIDO BOA VIAGE</td>\n",
       "    </tr>\n",
       "    <tr>\n",
       "      <th>646544</th>\n",
       "      <td>2024-06-11</td>\n",
       "      <td>14:15:00</td>\n",
       "      <td>2024-06-20</td>\n",
       "      <td>Código 7 - ZONA AZUL TALÃO ELETRÔNICO</td>\n",
       "      <td>5541</td>\n",
       "      <td>Estacionar o veículo em desacordo com as condi...</td>\n",
       "      <td>PRACA MIGUEL DE CERVANTES, AO LADO DA PRACA</td>\n",
       "      <td>AO POSTE N. H027335</td>\n",
       "      <td>None</td>\n",
       "    </tr>\n",
       "    <tr>\n",
       "      <th>708235</th>\n",
       "      <td>2024-08-09</td>\n",
       "      <td>13:22:00</td>\n",
       "      <td>2024-08-15</td>\n",
       "      <td>Código 8 - AUTOS NO TALÃO ELETRÔNICO</td>\n",
       "      <td>5207</td>\n",
       "      <td>Dirigir sem atenção ou sem os cuidados indispe...</td>\n",
       "      <td>AVENIDA DANTAS BARRETO, CRUZAMENTO AV</td>\n",
       "      <td>NOSSA SENHORA DO CARMO</td>\n",
       "      <td>None</td>\n",
       "    </tr>\n",
       "    <tr>\n",
       "      <th>854677</th>\n",
       "      <td>2024-12-05</td>\n",
       "      <td>16:55:00</td>\n",
       "      <td>2024-12-12</td>\n",
       "      <td>Código 8 - AUTOS NO TALÃO ELETRÔNICO</td>\n",
       "      <td>7102</td>\n",
       "      <td>Conduzir motoc/moton/transportando carga em de...</td>\n",
       "      <td>RUA DA SAUDADE, CRUZAMENTO COM A AV MARIO MELO</td>\n",
       "      <td>Art. 244 inciso VIII</td>\n",
       "      <td>None</td>\n",
       "    </tr>\n",
       "  </tbody>\n",
       "</table>\n",
       "</div>"
      ],
      "text/plain": [
       "       data_infracao hora_infracao data_implantacao  \\\n",
       "97799     2023-02-27      15:24:00       2023-03-03   \n",
       "156220    2023-04-05      15:55:00       2023-04-11   \n",
       "339560    2023-08-24      15:54:00       2023-09-01   \n",
       "390173    2023-10-03      08:34:00       2023-10-05   \n",
       "646544    2024-06-11      14:15:00       2024-06-20   \n",
       "708235    2024-08-09      13:22:00       2024-08-15   \n",
       "854677    2024-12-05      16:55:00       2024-12-12   \n",
       "\n",
       "                           agente_equipamento  cod_infracao  \\\n",
       "97799   Código 8 - AUTOS NO TALÃO ELETRÔNICO           7633   \n",
       "156220  Código 8 - AUTOS NO TALÃO ELETRÔNICO           7102   \n",
       "339560  Código 8 - AUTOS NO TALÃO ELETRÔNICO           5819   \n",
       "390173  Código 8 - AUTOS NO TALÃO ELETRÔNICO           6050   \n",
       "646544  Código 7 - ZONA AZUL TALÃO ELETRÔNICO          5541   \n",
       "708235   Código 8 - AUTOS NO TALÃO ELETRÔNICO          5207   \n",
       "854677   Código 8 - AUTOS NO TALÃO ELETRÔNICO          7102   \n",
       "\n",
       "                                       descricao_infracao  \\\n",
       "97799   Dirigir o veículo segurando o telefone celular...   \n",
       "156220  Conduzir motoc/moton/transportando carga em de...   \n",
       "339560  Transitar com veículo em canteiros centrais di...   \n",
       "390173  Avançar o sinal vermelho do semáforo, exceto o...   \n",
       "646544  Estacionar o veículo em desacordo com as condi...   \n",
       "708235  Dirigir sem atenção ou sem os cuidados indispe...   \n",
       "854677  Conduzir motoc/moton/transportando carga em de...   \n",
       "\n",
       "                                        local_cometimento  \\\n",
       "97799   AVENIDA GOVERNADOR AGAMENON MAGALHAES, SOB O S...   \n",
       "156220  AVENIDA RECIFE, EM FRENTE AO N. 5008 SENTIDO B...   \n",
       "339560  PRACA DO CAXANGA, LADO OPOSTO AO N. ,2831     ...   \n",
       "390173  RUA PAISSANDU, SOB O SEMAFORO N. 069          ...   \n",
       "646544        PRACA MIGUEL DE CERVANTES, AO LADO DA PRACA   \n",
       "708235              AVENIDA DANTAS BARRETO, CRUZAMENTO AV   \n",
       "854677     RUA DA SAUDADE, CRUZAMENTO COM A AV MARIO MELO   \n",
       "\n",
       "                          artigo  subdivisao_artigo  \n",
       "97799             SENTIDO OLINDA               None  \n",
       "156220      Art. 244 inciso VIII               None  \n",
       "339560  SENTIDO CIDADE/SUBURBIO.               None  \n",
       "390173             ILHA DO LEITE  SENTIDO BOA VIAGE  \n",
       "646544       AO POSTE N. H027335               None  \n",
       "708235    NOSSA SENHORA DO CARMO               None  \n",
       "854677      Art. 244 inciso VIII               None  "
      ]
     },
     "execution_count": 11,
     "metadata": {},
     "output_type": "execute_result"
    }
   ],
   "source": [
    "valores_problema = [\n",
    "    'SENTIDO OLINDA',\n",
    "    'SENTIDO CIDADE/SUBURBIO.',\n",
    "    'NOSSA SENHORA DO CARMO',\n",
    "    'ILHA DO LEITE',\n",
    "    'AO POSTE N. H027335',\n",
    "    'Art. 244 inciso VIII'\n",
    "]\n",
    "\n",
    "# Mostrar os registros que contêm os valores problemáticos na coluna 'Artigo'\n",
    "registros_problema = dft[dft['artigo'].isin(valores_problema)]\n",
    "registros_problema"
   ]
  },
  {
   "cell_type": "markdown",
   "id": "fff2a74c",
   "metadata": {},
   "source": [
    "### Corrigindo valores inválidos na coluna artigo"
   ]
  },
  {
   "cell_type": "code",
   "execution_count": 12,
   "id": "f3931cdd",
   "metadata": {},
   "outputs": [],
   "source": [
    "# Corrigir as linhas com 'Art. 244 inciso VIII'\n",
    "mask = dft['artigo'] == 'Art. 244 inciso VIII'\n",
    "dft.loc[mask, 'artigo'] = 'Art. 244'\n",
    "dft.loc[mask, 'subdivisao_artigo'] = 'inciso VIII'"
   ]
  },
  {
   "cell_type": "code",
   "execution_count": 13,
   "id": "e5a000db",
   "metadata": {},
   "outputs": [],
   "source": [
    "outros_problemas = [\n",
    "    'SENTIDO OLINDA',\n",
    "    'SENTIDO CIDADE/SUBURBIO.',\n",
    "    'NOSSA SENHORA DO CARMO',\n",
    "    'ILHA DO LEITE',\n",
    "    'AO POSTE N. H027335'\n",
    " ]\n",
    "\n",
    "# Corrigir as linhas com outros problemas substituindo por 'Não Informado'\n",
    "mask_outros = dft['artigo'].isin(outros_problemas)\n",
    "dft.loc[mask_outros, 'artigo'] = 'Não Informado'\n",
    "dft.loc[mask_outros, 'subdivisao_artigo'] = 'Não Informado'"
   ]
  },
  {
   "cell_type": "code",
   "execution_count": 88,
   "id": "b4ef3892",
   "metadata": {},
   "outputs": [
    {
     "data": {
      "text/html": [
       "<div>\n",
       "<style scoped>\n",
       "    .dataframe tbody tr th:only-of-type {\n",
       "        vertical-align: middle;\n",
       "    }\n",
       "\n",
       "    .dataframe tbody tr th {\n",
       "        vertical-align: top;\n",
       "    }\n",
       "\n",
       "    .dataframe thead th {\n",
       "        text-align: right;\n",
       "    }\n",
       "</style>\n",
       "<table border=\"1\" class=\"dataframe\">\n",
       "  <thead>\n",
       "    <tr style=\"text-align: right;\">\n",
       "      <th></th>\n",
       "      <th>data_infracao</th>\n",
       "      <th>hora_infracao</th>\n",
       "      <th>data_implantacao</th>\n",
       "      <th>agente_equipamento</th>\n",
       "      <th>cod_infracao</th>\n",
       "      <th>descricao_infracao</th>\n",
       "      <th>local_cometimento</th>\n",
       "      <th>artigo</th>\n",
       "      <th>subdivisao_artigo</th>\n",
       "    </tr>\n",
       "  </thead>\n",
       "  <tbody>\n",
       "    <tr>\n",
       "      <th>0</th>\n",
       "      <td>2023-01-01</td>\n",
       "      <td>00:01:00</td>\n",
       "      <td>2023-01-06</td>\n",
       "      <td>Código 8 - AUTOS NO TALÃO ELETRÔNICO</td>\n",
       "      <td>7234</td>\n",
       "      <td>Quando o veículo estiver em movimento deixar d...</td>\n",
       "      <td>RUA RIBEIRO DE BRITO, SOB O SEMAFORO N. 155   ...</td>\n",
       "      <td>250</td>\n",
       "      <td>Inc. I, alínea a</td>\n",
       "    </tr>\n",
       "    <tr>\n",
       "      <th>1</th>\n",
       "      <td>2023-01-01</td>\n",
       "      <td>00:27:00</td>\n",
       "      <td>2023-01-06</td>\n",
       "      <td>Código 8 - AUTOS NO TALÃO ELETRÔNICO</td>\n",
       "      <td>5835</td>\n",
       "      <td>Desobedecer às ordens emanadas da autoridade c...</td>\n",
       "      <td>RUA DOS NAVEGANTES, CRUZAMENTO COM A RUA PADRE...</td>\n",
       "      <td>195</td>\n",
       "      <td>Não Informado</td>\n",
       "    </tr>\n",
       "    <tr>\n",
       "      <th>2</th>\n",
       "      <td>2023-01-01</td>\n",
       "      <td>00:27:00</td>\n",
       "      <td>2023-01-06</td>\n",
       "      <td>Código 8 - AUTOS NO TALÃO ELETRÔNICO</td>\n",
       "      <td>5215</td>\n",
       "      <td>Dirigir ameaçando os pedestres que estejam atr...</td>\n",
       "      <td>RUA DOS NAVEGANTES, CRUZAMENTO COM A RUA PADRE...</td>\n",
       "      <td>170</td>\n",
       "      <td>Não Informado</td>\n",
       "    </tr>\n",
       "    <tr>\n",
       "      <th>3</th>\n",
       "      <td>2023-01-01</td>\n",
       "      <td>00:52:00</td>\n",
       "      <td>2023-01-06</td>\n",
       "      <td>Código 8 - AUTOS NO TALÃO ELETRÔNICO</td>\n",
       "      <td>5550</td>\n",
       "      <td>Estacionar o veículo em locais e horários proi...</td>\n",
       "      <td>AVENIDA ENGENHEIRO DOMINGOS FERREIRA, EM FRENT...</td>\n",
       "      <td>181</td>\n",
       "      <td>Inc. XVIII</td>\n",
       "    </tr>\n",
       "    <tr>\n",
       "      <th>4</th>\n",
       "      <td>2023-01-01</td>\n",
       "      <td>00:52:00</td>\n",
       "      <td>2023-01-06</td>\n",
       "      <td>Código 8 - AUTOS NO TALÃO ELETRÔNICO</td>\n",
       "      <td>5550</td>\n",
       "      <td>Estacionar o veículo em locais e horários proi...</td>\n",
       "      <td>AVENIDA ENGENHEIRO DOMINGOS FERREIRA, EM FRENT...</td>\n",
       "      <td>181</td>\n",
       "      <td>Inc. XVIII</td>\n",
       "    </tr>\n",
       "  </tbody>\n",
       "</table>\n",
       "</div>"
      ],
      "text/plain": [
       "  data_infracao hora_infracao data_implantacao  \\\n",
       "0    2023-01-01      00:01:00       2023-01-06   \n",
       "1    2023-01-01      00:27:00       2023-01-06   \n",
       "2    2023-01-01      00:27:00       2023-01-06   \n",
       "3    2023-01-01      00:52:00       2023-01-06   \n",
       "4    2023-01-01      00:52:00       2023-01-06   \n",
       "\n",
       "                      agente_equipamento  cod_infracao  \\\n",
       "0  Código 8 - AUTOS NO TALÃO ELETRÔNICO           7234   \n",
       "1  Código 8 - AUTOS NO TALÃO ELETRÔNICO           5835   \n",
       "2  Código 8 - AUTOS NO TALÃO ELETRÔNICO           5215   \n",
       "3  Código 8 - AUTOS NO TALÃO ELETRÔNICO           5550   \n",
       "4  Código 8 - AUTOS NO TALÃO ELETRÔNICO           5550   \n",
       "\n",
       "                                  descricao_infracao  \\\n",
       "0  Quando o veículo estiver em movimento deixar d...   \n",
       "1  Desobedecer às ordens emanadas da autoridade c...   \n",
       "2  Dirigir ameaçando os pedestres que estejam atr...   \n",
       "3  Estacionar o veículo em locais e horários proi...   \n",
       "4  Estacionar o veículo em locais e horários proi...   \n",
       "\n",
       "                                   local_cometimento artigo subdivisao_artigo  \n",
       "0  RUA RIBEIRO DE BRITO, SOB O SEMAFORO N. 155   ...    250  Inc. I, alínea a  \n",
       "1  RUA DOS NAVEGANTES, CRUZAMENTO COM A RUA PADRE...    195     Não Informado  \n",
       "2  RUA DOS NAVEGANTES, CRUZAMENTO COM A RUA PADRE...    170     Não Informado  \n",
       "3  AVENIDA ENGENHEIRO DOMINGOS FERREIRA, EM FRENT...    181        Inc. XVIII  \n",
       "4  AVENIDA ENGENHEIRO DOMINGOS FERREIRA, EM FRENT...    181        Inc. XVIII  "
      ]
     },
     "execution_count": 88,
     "metadata": {},
     "output_type": "execute_result"
    }
   ],
   "source": [
    "dft.head()"
   ]
  },
  {
   "cell_type": "code",
   "execution_count": 14,
   "id": "65745bb8",
   "metadata": {},
   "outputs": [],
   "source": [
    "# Separando 'Art. 165-A'\n",
    "dft.loc[dft['artigo'] == 'Art. 165-A', 'artigo'] = 'Art. 165'\n",
    "dft.loc[dft['artigo'] == 'Art. 165', 'subdivisao_artigo'] = 'A'"
   ]
  },
  {
   "cell_type": "code",
   "execution_count": 90,
   "id": "8aed58ab",
   "metadata": {},
   "outputs": [
    {
     "data": {
      "text/html": [
       "<div>\n",
       "<style scoped>\n",
       "    .dataframe tbody tr th:only-of-type {\n",
       "        vertical-align: middle;\n",
       "    }\n",
       "\n",
       "    .dataframe tbody tr th {\n",
       "        vertical-align: top;\n",
       "    }\n",
       "\n",
       "    .dataframe thead th {\n",
       "        text-align: right;\n",
       "    }\n",
       "</style>\n",
       "<table border=\"1\" class=\"dataframe\">\n",
       "  <thead>\n",
       "    <tr style=\"text-align: right;\">\n",
       "      <th></th>\n",
       "      <th>data_infracao</th>\n",
       "      <th>hora_infracao</th>\n",
       "      <th>data_implantacao</th>\n",
       "      <th>agente_equipamento</th>\n",
       "      <th>cod_infracao</th>\n",
       "      <th>descricao_infracao</th>\n",
       "      <th>local_cometimento</th>\n",
       "      <th>artigo</th>\n",
       "      <th>subdivisao_artigo</th>\n",
       "    </tr>\n",
       "  </thead>\n",
       "  <tbody>\n",
       "    <tr>\n",
       "      <th>0</th>\n",
       "      <td>2023-01-01</td>\n",
       "      <td>00:01:00</td>\n",
       "      <td>2023-01-06</td>\n",
       "      <td>Código 8 - AUTOS NO TALÃO ELETRÔNICO</td>\n",
       "      <td>7234</td>\n",
       "      <td>Quando o veículo estiver em movimento deixar d...</td>\n",
       "      <td>RUA RIBEIRO DE BRITO, SOB O SEMAFORO N. 155   ...</td>\n",
       "      <td>250</td>\n",
       "      <td>Inc. I, alínea a</td>\n",
       "    </tr>\n",
       "    <tr>\n",
       "      <th>1</th>\n",
       "      <td>2023-01-01</td>\n",
       "      <td>00:27:00</td>\n",
       "      <td>2023-01-06</td>\n",
       "      <td>Código 8 - AUTOS NO TALÃO ELETRÔNICO</td>\n",
       "      <td>5835</td>\n",
       "      <td>Desobedecer às ordens emanadas da autoridade c...</td>\n",
       "      <td>RUA DOS NAVEGANTES, CRUZAMENTO COM A RUA PADRE...</td>\n",
       "      <td>195</td>\n",
       "      <td>Não Informado</td>\n",
       "    </tr>\n",
       "    <tr>\n",
       "      <th>2</th>\n",
       "      <td>2023-01-01</td>\n",
       "      <td>00:27:00</td>\n",
       "      <td>2023-01-06</td>\n",
       "      <td>Código 8 - AUTOS NO TALÃO ELETRÔNICO</td>\n",
       "      <td>5215</td>\n",
       "      <td>Dirigir ameaçando os pedestres que estejam atr...</td>\n",
       "      <td>RUA DOS NAVEGANTES, CRUZAMENTO COM A RUA PADRE...</td>\n",
       "      <td>170</td>\n",
       "      <td>Não Informado</td>\n",
       "    </tr>\n",
       "    <tr>\n",
       "      <th>3</th>\n",
       "      <td>2023-01-01</td>\n",
       "      <td>00:52:00</td>\n",
       "      <td>2023-01-06</td>\n",
       "      <td>Código 8 - AUTOS NO TALÃO ELETRÔNICO</td>\n",
       "      <td>5550</td>\n",
       "      <td>Estacionar o veículo em locais e horários proi...</td>\n",
       "      <td>AVENIDA ENGENHEIRO DOMINGOS FERREIRA, EM FRENT...</td>\n",
       "      <td>181</td>\n",
       "      <td>Inc. XVIII</td>\n",
       "    </tr>\n",
       "    <tr>\n",
       "      <th>4</th>\n",
       "      <td>2023-01-01</td>\n",
       "      <td>00:52:00</td>\n",
       "      <td>2023-01-06</td>\n",
       "      <td>Código 8 - AUTOS NO TALÃO ELETRÔNICO</td>\n",
       "      <td>5550</td>\n",
       "      <td>Estacionar o veículo em locais e horários proi...</td>\n",
       "      <td>AVENIDA ENGENHEIRO DOMINGOS FERREIRA, EM FRENT...</td>\n",
       "      <td>181</td>\n",
       "      <td>Inc. XVIII</td>\n",
       "    </tr>\n",
       "  </tbody>\n",
       "</table>\n",
       "</div>"
      ],
      "text/plain": [
       "  data_infracao hora_infracao data_implantacao  \\\n",
       "0    2023-01-01      00:01:00       2023-01-06   \n",
       "1    2023-01-01      00:27:00       2023-01-06   \n",
       "2    2023-01-01      00:27:00       2023-01-06   \n",
       "3    2023-01-01      00:52:00       2023-01-06   \n",
       "4    2023-01-01      00:52:00       2023-01-06   \n",
       "\n",
       "                      agente_equipamento  cod_infracao  \\\n",
       "0  Código 8 - AUTOS NO TALÃO ELETRÔNICO           7234   \n",
       "1  Código 8 - AUTOS NO TALÃO ELETRÔNICO           5835   \n",
       "2  Código 8 - AUTOS NO TALÃO ELETRÔNICO           5215   \n",
       "3  Código 8 - AUTOS NO TALÃO ELETRÔNICO           5550   \n",
       "4  Código 8 - AUTOS NO TALÃO ELETRÔNICO           5550   \n",
       "\n",
       "                                  descricao_infracao  \\\n",
       "0  Quando o veículo estiver em movimento deixar d...   \n",
       "1  Desobedecer às ordens emanadas da autoridade c...   \n",
       "2  Dirigir ameaçando os pedestres que estejam atr...   \n",
       "3  Estacionar o veículo em locais e horários proi...   \n",
       "4  Estacionar o veículo em locais e horários proi...   \n",
       "\n",
       "                                   local_cometimento artigo subdivisao_artigo  \n",
       "0  RUA RIBEIRO DE BRITO, SOB O SEMAFORO N. 155   ...    250  Inc. I, alínea a  \n",
       "1  RUA DOS NAVEGANTES, CRUZAMENTO COM A RUA PADRE...    195     Não Informado  \n",
       "2  RUA DOS NAVEGANTES, CRUZAMENTO COM A RUA PADRE...    170     Não Informado  \n",
       "3  AVENIDA ENGENHEIRO DOMINGOS FERREIRA, EM FRENT...    181        Inc. XVIII  \n",
       "4  AVENIDA ENGENHEIRO DOMINGOS FERREIRA, EM FRENT...    181        Inc. XVIII  "
      ]
     },
     "execution_count": 90,
     "metadata": {},
     "output_type": "execute_result"
    }
   ],
   "source": [
    "dft.head()"
   ]
  },
  {
   "cell_type": "code",
   "execution_count": 15,
   "id": "eeda8af1",
   "metadata": {},
   "outputs": [],
   "source": [
    "# Separando 'Art. 253-A'\n",
    "dft.loc[dft['artigo'] == 'Art. 253-A', 'artigo'] = 'Art. 253'\n",
    "dft.loc[dft['artigo'] == 'Art. 253', 'subdivisao_artigo'] = 'A'"
   ]
  },
  {
   "cell_type": "code",
   "execution_count": 16,
   "id": "54c51292",
   "metadata": {},
   "outputs": [
    {
     "data": {
      "text/plain": [
       "array(['Art. 250', 'Art. 195', 'Art. 170', 'Art. 181', 'Art. 185',\n",
       "       'Art. 208', 'Art. 252', 'Art. 167', 'Art. 218', 'Art. 187',\n",
       "       'Art. 183', 'Art. 207', 'Art. 178', 'Art. 184', 'Art. 244',\n",
       "       'Art. 186', 'Art. 182', 'Art. 230', 'Art. 201', 'Art. 196',\n",
       "       'Art. 206', 'Art. 169', 'ARt. 181', 'Art. 193', 'Art. 197',\n",
       "       'Art. 162', 'Art. 221', 'Art. 210', 'Art. 175', 'Art. 171',\n",
       "       'Art. 211', 'Art. 227', 'Art. 203', 'Art. 214', 'Art. 164',\n",
       "       'Art. 172', 'Art. 216', 'Art. 173', 'Art. 194', 'Art. 174',\n",
       "       'Art. 165', 'Art. 163', 'Art.168', 'Art. 220', 'Art. 231',\n",
       "       'Art. 189', 'Art. 215', 'Art. 236', 'Art. 209', 'Art. 191',\n",
       "       'Art. 180', 'Art. 253', 'Art. 232', 'Art. 228', 'Art. 229',\n",
       "       'Art. 239', 'Art. 238', 'Art. 278', 'Art. 176', 'Art. 235',\n",
       "       'Art. 205', 'Art. 192', 'Não Informado', 'Art. 190', 'Art.244',\n",
       "       'Art. 202', 'Art. 204', 'Art. 251', 'Art. 188', 'Art. 223',\n",
       "       'Art. 199', 'Art. 254', 'Art. 224', 'Art. 246', 'Art. 225',\n",
       "       'Art. 249', 'Art. 212', 'Art. 200', 'Art. 213', 'Art. 234'],\n",
       "      dtype=object)"
      ]
     },
     "execution_count": 16,
     "metadata": {},
     "output_type": "execute_result"
    }
   ],
   "source": [
    "dft['artigo'].unique()"
   ]
  },
  {
   "cell_type": "markdown",
   "id": "eba2a49f",
   "metadata": {},
   "source": [
    "### Deixando so a sequência de números na coluna artigo:"
   ]
  },
  {
   "cell_type": "code",
   "execution_count": 17,
   "id": "e9b7a10e",
   "metadata": {},
   "outputs": [],
   "source": [
    "# Aplica apenas nas linhas que não são 'Não Informado'\n",
    "mask = dft['artigo'] != 'Não Informado'\n",
    "dft.loc[mask, 'artigo'] = dft.loc[mask, 'artigo'].str.extract(r'(\\d+)', expand=False)"
   ]
  },
  {
   "cell_type": "code",
   "execution_count": 18,
   "id": "2b15d1f8",
   "metadata": {},
   "outputs": [
    {
     "data": {
      "text/plain": [
       "array(['250', '195', '170', '181', '185', '208', '252', '167', '218',\n",
       "       '187', '183', '207', '178', '184', '244', '186', '182', '230',\n",
       "       '201', '196', '206', '169', '193', '197', '162', '221', '210',\n",
       "       '175', '171', '211', '227', '203', '214', '164', '172', '216',\n",
       "       '173', '194', '174', '165', '163', '168', '220', '231', '189',\n",
       "       '215', '236', '209', '191', '180', '253', '232', '228', '229',\n",
       "       '239', '238', '278', '176', '235', '205', '192', 'Não Informado',\n",
       "       '190', '202', '204', '251', '188', '223', '199', '254', '224',\n",
       "       '246', '225', '249', '212', '200', '213', '234'], dtype=object)"
      ]
     },
     "execution_count": 18,
     "metadata": {},
     "output_type": "execute_result"
    }
   ],
   "source": [
    "dft['artigo'].unique()"
   ]
  },
  {
   "cell_type": "markdown",
   "id": "31a8263f",
   "metadata": {},
   "source": [
    "## Coluna subdvisao_artigo"
   ]
  },
  {
   "cell_type": "code",
   "execution_count": 19,
   "id": "c61cc97b",
   "metadata": {},
   "outputs": [
    {
     "data": {
      "text/plain": [
       "array(['Inc. I, alínea a', None, 'Inc. XVIII', 'Inc. VIII', 'Inc. I',\n",
       "       '§único', 'Inc. II', 'Inc. III', 'Inc. XVII', 'Inc. IX', 'Inc. IV',\n",
       "       'X', 'Inc. VII', 'Inc. VI', 'Inc. X', 'Inc. XIII', 'Inc. XI',\n",
       "       'Inc. XIX', 'Inc. V', 'inc. XX', 'Inc. XXII', 'Inc. XV', 'XI',\n",
       "       'c/c Art. 162, Inc. I', 'A', 'c/c Art. 162, Inc. V', 'Inc. XIV',\n",
       "       'I, b', 'Inc. II, alínea a', 'Inc. XVI', '§ único c/c 210', 'I, d',\n",
       "       'c/c Art. 162, Inc. III', 'Inc. XII', 'Inc. III, c/c §1º',\n",
       "       'Não Informado', '§ 1º, alínea c', 'Inc. VII, c/c §1º',\n",
       "       'c/c Art. 162, Inc. II', 'c/c Art. 162, Inc. VI', '§ 1º, alínea a',\n",
       "       'inciso VIII', 'Inc. I, alínea b', 'parágrafo único', 'I, c',\n",
       "       'Inc. II, alínea c', 'I, e', 'inc. VII', 'Inc. VIII,  c/c §1º'],\n",
       "      dtype=object)"
      ]
     },
     "execution_count": 19,
     "metadata": {},
     "output_type": "execute_result"
    }
   ],
   "source": [
    "dft['subdivisao_artigo'].unique()"
   ]
  },
  {
   "cell_type": "code",
   "execution_count": 20,
   "id": "aa15f39a",
   "metadata": {},
   "outputs": [],
   "source": [
    "dft['subdivisao_artigo'] = dft['subdivisao_artigo'].fillna('Não Informado')"
   ]
  },
  {
   "cell_type": "code",
   "execution_count": 21,
   "id": "e665a222",
   "metadata": {},
   "outputs": [
    {
     "data": {
      "text/plain": [
       "array(['Inc. I, alínea a', 'Não Informado', 'Inc. XVIII', 'Inc. VIII',\n",
       "       'Inc. I', '§único', 'Inc. II', 'Inc. III', 'Inc. XVII', 'Inc. IX',\n",
       "       'Inc. IV', 'X', 'Inc. VII', 'Inc. VI', 'Inc. X', 'Inc. XIII',\n",
       "       'Inc. XI', 'Inc. XIX', 'Inc. V', 'inc. XX', 'Inc. XXII', 'Inc. XV',\n",
       "       'XI', 'c/c Art. 162, Inc. I', 'A', 'c/c Art. 162, Inc. V',\n",
       "       'Inc. XIV', 'I, b', 'Inc. II, alínea a', 'Inc. XVI',\n",
       "       '§ único c/c 210', 'I, d', 'c/c Art. 162, Inc. III', 'Inc. XII',\n",
       "       'Inc. III, c/c §1º', '§ 1º, alínea c', 'Inc. VII, c/c §1º',\n",
       "       'c/c Art. 162, Inc. II', 'c/c Art. 162, Inc. VI', '§ 1º, alínea a',\n",
       "       'inciso VIII', 'Inc. I, alínea b', 'parágrafo único', 'I, c',\n",
       "       'Inc. II, alínea c', 'I, e', 'inc. VII', 'Inc. VIII,  c/c §1º'],\n",
       "      dtype=object)"
      ]
     },
     "execution_count": 21,
     "metadata": {},
     "output_type": "execute_result"
    }
   ],
   "source": [
    "dft['subdivisao_artigo'].unique()"
   ]
  },
  {
   "cell_type": "code",
   "execution_count": 22,
   "id": "f642e54c",
   "metadata": {},
   "outputs": [],
   "source": [
    "#Padronizando os valores da coluna 'subdivisao_artigo' \n",
    "# Mesmo que tenha ' ' espaço no início ou no final, o replace irá remover por causa do strip()\n",
    "\n",
    "\n",
    "dft['subdivisao_artigo'] = dft['subdivisao_artigo'].str.strip().replace({\n",
    "    'inc. VII': 'Inc. VII',\n",
    "    'inciso VIII': 'Inc. VIII',\n",
    "    'parágrafo único': '§ único'\n",
    "})"
   ]
  },
  {
   "cell_type": "code",
   "execution_count": 23,
   "id": "56e54d7a",
   "metadata": {},
   "outputs": [
    {
     "data": {
      "text/plain": [
       "array(['Inc. I, alínea a', 'Não Informado', 'Inc. XVIII', 'Inc. VIII',\n",
       "       'Inc. I', '§único', 'Inc. II', 'Inc. III', 'Inc. XVII', 'Inc. IX',\n",
       "       'Inc. IV', 'X', 'Inc. VII', 'Inc. VI', 'Inc. X', 'Inc. XIII',\n",
       "       'Inc. XI', 'Inc. XIX', 'Inc. V', 'inc. XX', 'Inc. XXII', 'Inc. XV',\n",
       "       'XI', 'c/c Art. 162, Inc. I', 'A', 'c/c Art. 162, Inc. V',\n",
       "       'Inc. XIV', 'I, b', 'Inc. II, alínea a', 'Inc. XVI',\n",
       "       '§ único c/c 210', 'I, d', 'c/c Art. 162, Inc. III', 'Inc. XII',\n",
       "       'Inc. III, c/c §1º', '§ 1º, alínea c', 'Inc. VII, c/c §1º',\n",
       "       'c/c Art. 162, Inc. II', 'c/c Art. 162, Inc. VI', '§ 1º, alínea a',\n",
       "       'Inc. I, alínea b', '§ único', 'I, c', 'Inc. II, alínea c', 'I, e',\n",
       "       'Inc. VIII,  c/c §1º'], dtype=object)"
      ]
     },
     "execution_count": 23,
     "metadata": {},
     "output_type": "execute_result"
    }
   ],
   "source": [
    "dft['subdivisao_artigo'].unique()"
   ]
  },
  {
   "cell_type": "markdown",
   "id": "1c16cca2",
   "metadata": {},
   "source": [
    "### Corrigindo os valores nulos"
   ]
  },
  {
   "cell_type": "code",
   "execution_count": 24,
   "id": "99cfaa86",
   "metadata": {},
   "outputs": [
    {
     "data": {
      "text/plain": [
       "data_infracao             0\n",
       "hora_infracao             0\n",
       "data_implantacao          0\n",
       "agente_equipamento    62784\n",
       "cod_infracao              0\n",
       "descricao_infracao        0\n",
       "local_cometimento         0\n",
       "artigo                    0\n",
       "subdivisao_artigo         0\n",
       "dtype: int64"
      ]
     },
     "execution_count": 24,
     "metadata": {},
     "output_type": "execute_result"
    }
   ],
   "source": [
    "dft.isna().sum()"
   ]
  },
  {
   "cell_type": "markdown",
   "id": "86690bf7",
   "metadata": {},
   "source": [
    "### Corrigindo os valores nulos de agente_equipamento.\n",
    "Tentamos fazer um mapeamento do número da infração com o agente_equipamento que representa a forma de atuação e a descrição da infração mas isso não representa uma função injetora em que dá pra fazer a correnspondencia e supor que toda vez que aparece uma infração x o agente foi y"
   ]
  },
  {
   "cell_type": "code",
   "execution_count": 67,
   "id": "5b54a54f",
   "metadata": {},
   "outputs": [
    {
     "data": {
      "text/plain": [
       "array([7234, 5835, 5215, 5550, 5452, 5703, 6050, 7633, 5185, 7455, 5746,\n",
       "       7463, 5673, 7471, 6041, 5541, 5460, 5347, 7587, 7340, 7684, 5738,\n",
       "       5630, 6602, 5894, 5665, 5509, 5487, 5843, 6017, 5207, 7366, 5568,\n",
       "       7315, 7358, 5380, 7625, 5819, 5851, 6599, 5045, 6408, 5010, 7030,\n",
       "       7285, 5720, 6769, 5622, 5525, 5991, 5053, 6076, 5274, 7670, 6670,\n",
       "       7714, 5711, 5223, 6084, 7048, 6491, 5959, 5479, 6556, 5037, 6130,\n",
       "       5118, 5410, 5231, 6190, 6726, 6580, 6033, 6610, 5240, 5827, 5258,\n",
       "       7579, 6629, 5096, 5193, 6394, 6858, 5690, 6009, 5770, 5576, 5029,\n",
       "       6645, 7323, 6173, 6386, 6483, 6955, 6068, 5797, 6025, 6122, 5371,\n",
       "       6637, 7374, 5681, 6912, 6530, 5592, 6548, 7056, 7099, 6980, 6564,\n",
       "       6866, 6971, 7242, 6785, 5584, 6700, 7765, 6270, 7269, 5061, 5169,\n",
       "       6181, 5142, 5282, 5398, 6947, 6653, 5428, 7072, 5134, 5657, 6661,\n",
       "       6149, 5924, 5983, 5495, 5967, 5517, 5800, 5401, 6165, 5789, 7137,\n",
       "       6262, 5916, 5070, 5150, 5126, 7110, 6572, 6777, 5312, 7102, 5290,\n",
       "       5304, 5975, 5266, 5614, 5908, 6505, 7293, 5762, 6157, 5649, 6432,\n",
       "       7080, 5606, 6297, 5878, 7439, 5444, 5932, 6734, 6521, 6440, 7609,\n",
       "       7153, 6823, 6327, 7382, 6459, 6416, 7250, 6807, 7226, 7307, 7722,\n",
       "       6092, 6513, 7331, 5886, 7404, 6106, 5100, 5320, 7749, 5088, 5940,\n",
       "       6939])"
      ]
     },
     "execution_count": 67,
     "metadata": {},
     "output_type": "execute_result"
    }
   ],
   "source": [
    "dft['cod_infracao'].unique()"
   ]
  },
  {
   "cell_type": "code",
   "execution_count": 68,
   "id": "70db52cf",
   "metadata": {},
   "outputs": [
    {
     "data": {
      "text/plain": [
       "199"
      ]
     },
     "execution_count": 68,
     "metadata": {},
     "output_type": "execute_result"
    }
   ],
   "source": [
    "dft['cod_infracao'].nunique()"
   ]
  },
  {
   "cell_type": "code",
   "execution_count": 69,
   "id": "17d8303b",
   "metadata": {},
   "outputs": [
    {
     "data": {
      "text/plain": [
       "461"
      ]
     },
     "execution_count": 69,
     "metadata": {},
     "output_type": "execute_result"
    }
   ],
   "source": [
    "dft['descricao_infracao'].nunique()"
   ]
  },
  {
   "cell_type": "code",
   "execution_count": 25,
   "id": "2f2fa665",
   "metadata": {},
   "outputs": [],
   "source": [
    "dft = dft.fillna(\"não informado\")"
   ]
  },
  {
   "cell_type": "code",
   "execution_count": 26,
   "id": "0a8a1825",
   "metadata": {},
   "outputs": [
    {
     "data": {
      "text/plain": [
       "data_infracao         0\n",
       "hora_infracao         0\n",
       "data_implantacao      0\n",
       "agente_equipamento    0\n",
       "cod_infracao          0\n",
       "descricao_infracao    0\n",
       "local_cometimento     0\n",
       "artigo                0\n",
       "subdivisao_artigo     0\n",
       "dtype: int64"
      ]
     },
     "execution_count": 26,
     "metadata": {},
     "output_type": "execute_result"
    }
   ],
   "source": [
    "dft.isna().sum()"
   ]
  },
  {
   "cell_type": "markdown",
   "id": "fa45fb74",
   "metadata": {},
   "source": [
    "Como tanto a coluna de agente_equipamento e inciso são string é valido substituir os valores nulos por \"não informado\""
   ]
  },
  {
   "cell_type": "markdown",
   "id": "929ccd6a",
   "metadata": {},
   "source": [
    "### Transformando os tipos das colunas"
   ]
  },
  {
   "cell_type": "markdown",
   "id": "2b508668",
   "metadata": {},
   "source": [
    "Para facilitar a compreensão decidimos colocar  as datas no formato \"dia/mês/ano\" da coluna data_infracao e data_implantacao\n",
    "Removendo a hora da coluna data_implantacao\n"
   ]
  },
  {
   "cell_type": "code",
   "execution_count": 31,
   "id": "0ffe0f10",
   "metadata": {},
   "outputs": [],
   "source": [
    "dft['hora_infracao'] = pd.to_datetime(dft['hora_infracao'], format = '%H:%M:%S', errors='coerce').dt.time\n",
    "\n",
    "dft['agente_equipamento'] = dft['agente_equipamento'].astype('string')\n",
    "dft['descricao_infracao'] = dft['descricao_infracao'].astype('string')\n",
    "dft['local_cometimento'] = dft['local_cometimento'].astype('string')\n",
    "dft['artigo'] = dft['artigo'].astype('string')\n",
    "dft['subdivisao_artigo'] = dft['subdivisao_artigo'].astype('string')"
   ]
  },
  {
   "cell_type": "code",
   "execution_count": 32,
   "id": "21910f1d",
   "metadata": {},
   "outputs": [
    {
     "data": {
      "text/html": [
       "<div>\n",
       "<style scoped>\n",
       "    .dataframe tbody tr th:only-of-type {\n",
       "        vertical-align: middle;\n",
       "    }\n",
       "\n",
       "    .dataframe tbody tr th {\n",
       "        vertical-align: top;\n",
       "    }\n",
       "\n",
       "    .dataframe thead th {\n",
       "        text-align: right;\n",
       "    }\n",
       "</style>\n",
       "<table border=\"1\" class=\"dataframe\">\n",
       "  <thead>\n",
       "    <tr style=\"text-align: right;\">\n",
       "      <th></th>\n",
       "      <th>data_infracao</th>\n",
       "      <th>hora_infracao</th>\n",
       "      <th>data_implantacao</th>\n",
       "      <th>agente_equipamento</th>\n",
       "      <th>cod_infracao</th>\n",
       "      <th>descricao_infracao</th>\n",
       "      <th>local_cometimento</th>\n",
       "      <th>artigo</th>\n",
       "      <th>subdivisao_artigo</th>\n",
       "    </tr>\n",
       "  </thead>\n",
       "  <tbody>\n",
       "    <tr>\n",
       "      <th>0</th>\n",
       "      <td>2023-01-01</td>\n",
       "      <td>00:01:00</td>\n",
       "      <td>2023-01-06</td>\n",
       "      <td>Código 8 - AUTOS NO TALÃO ELETRÔNICO</td>\n",
       "      <td>7234</td>\n",
       "      <td>Quando o veículo estiver em movimento deixar d...</td>\n",
       "      <td>RUA RIBEIRO DE BRITO, SOB O SEMAFORO N. 155   ...</td>\n",
       "      <td>250</td>\n",
       "      <td>Inc. I, alínea a</td>\n",
       "    </tr>\n",
       "    <tr>\n",
       "      <th>1</th>\n",
       "      <td>2023-01-01</td>\n",
       "      <td>00:27:00</td>\n",
       "      <td>2023-01-06</td>\n",
       "      <td>Código 8 - AUTOS NO TALÃO ELETRÔNICO</td>\n",
       "      <td>5835</td>\n",
       "      <td>Desobedecer às ordens emanadas da autoridade c...</td>\n",
       "      <td>RUA DOS NAVEGANTES, CRUZAMENTO COM A RUA PADRE...</td>\n",
       "      <td>195</td>\n",
       "      <td>Não Informado</td>\n",
       "    </tr>\n",
       "    <tr>\n",
       "      <th>2</th>\n",
       "      <td>2023-01-01</td>\n",
       "      <td>00:27:00</td>\n",
       "      <td>2023-01-06</td>\n",
       "      <td>Código 8 - AUTOS NO TALÃO ELETRÔNICO</td>\n",
       "      <td>5215</td>\n",
       "      <td>Dirigir ameaçando os pedestres que estejam atr...</td>\n",
       "      <td>RUA DOS NAVEGANTES, CRUZAMENTO COM A RUA PADRE...</td>\n",
       "      <td>170</td>\n",
       "      <td>Não Informado</td>\n",
       "    </tr>\n",
       "    <tr>\n",
       "      <th>3</th>\n",
       "      <td>2023-01-01</td>\n",
       "      <td>00:52:00</td>\n",
       "      <td>2023-01-06</td>\n",
       "      <td>Código 8 - AUTOS NO TALÃO ELETRÔNICO</td>\n",
       "      <td>5550</td>\n",
       "      <td>Estacionar o veículo em locais e horários proi...</td>\n",
       "      <td>AVENIDA ENGENHEIRO DOMINGOS FERREIRA, EM FRENT...</td>\n",
       "      <td>181</td>\n",
       "      <td>Inc. XVIII</td>\n",
       "    </tr>\n",
       "    <tr>\n",
       "      <th>4</th>\n",
       "      <td>2023-01-01</td>\n",
       "      <td>00:52:00</td>\n",
       "      <td>2023-01-06</td>\n",
       "      <td>Código 8 - AUTOS NO TALÃO ELETRÔNICO</td>\n",
       "      <td>5550</td>\n",
       "      <td>Estacionar o veículo em locais e horários proi...</td>\n",
       "      <td>AVENIDA ENGENHEIRO DOMINGOS FERREIRA, EM FRENT...</td>\n",
       "      <td>181</td>\n",
       "      <td>Inc. XVIII</td>\n",
       "    </tr>\n",
       "  </tbody>\n",
       "</table>\n",
       "</div>"
      ],
      "text/plain": [
       "  data_infracao hora_infracao data_implantacao  \\\n",
       "0    2023-01-01      00:01:00       2023-01-06   \n",
       "1    2023-01-01      00:27:00       2023-01-06   \n",
       "2    2023-01-01      00:27:00       2023-01-06   \n",
       "3    2023-01-01      00:52:00       2023-01-06   \n",
       "4    2023-01-01      00:52:00       2023-01-06   \n",
       "\n",
       "                      agente_equipamento  cod_infracao  \\\n",
       "0  Código 8 - AUTOS NO TALÃO ELETRÔNICO           7234   \n",
       "1  Código 8 - AUTOS NO TALÃO ELETRÔNICO           5835   \n",
       "2  Código 8 - AUTOS NO TALÃO ELETRÔNICO           5215   \n",
       "3  Código 8 - AUTOS NO TALÃO ELETRÔNICO           5550   \n",
       "4  Código 8 - AUTOS NO TALÃO ELETRÔNICO           5550   \n",
       "\n",
       "                                  descricao_infracao  \\\n",
       "0  Quando o veículo estiver em movimento deixar d...   \n",
       "1  Desobedecer às ordens emanadas da autoridade c...   \n",
       "2  Dirigir ameaçando os pedestres que estejam atr...   \n",
       "3  Estacionar o veículo em locais e horários proi...   \n",
       "4  Estacionar o veículo em locais e horários proi...   \n",
       "\n",
       "                                   local_cometimento artigo subdivisao_artigo  \n",
       "0  RUA RIBEIRO DE BRITO, SOB O SEMAFORO N. 155   ...    250  Inc. I, alínea a  \n",
       "1  RUA DOS NAVEGANTES, CRUZAMENTO COM A RUA PADRE...    195     Não Informado  \n",
       "2  RUA DOS NAVEGANTES, CRUZAMENTO COM A RUA PADRE...    170     Não Informado  \n",
       "3  AVENIDA ENGENHEIRO DOMINGOS FERREIRA, EM FRENT...    181        Inc. XVIII  \n",
       "4  AVENIDA ENGENHEIRO DOMINGOS FERREIRA, EM FRENT...    181        Inc. XVIII  "
      ]
     },
     "execution_count": 32,
     "metadata": {},
     "output_type": "execute_result"
    }
   ],
   "source": [
    "dft.head()"
   ]
  },
  {
   "cell_type": "code",
   "execution_count": 33,
   "id": "612c0444",
   "metadata": {},
   "outputs": [
    {
     "name": "stdout",
     "output_type": "stream",
     "text": [
      "<class 'pandas.core.frame.DataFrame'>\n",
      "RangeIndex: 1064812 entries, 0 to 1064811\n",
      "Data columns (total 9 columns):\n",
      " #   Column              Non-Null Count    Dtype \n",
      "---  ------              --------------    ----- \n",
      " 0   data_infracao       1064812 non-null  object\n",
      " 1   hora_infracao       1064812 non-null  object\n",
      " 2   data_implantacao    1064812 non-null  object\n",
      " 3   agente_equipamento  1064812 non-null  string\n",
      " 4   cod_infracao        1064812 non-null  int64 \n",
      " 5   descricao_infracao  1064812 non-null  string\n",
      " 6   local_cometimento   1064812 non-null  string\n",
      " 7   artigo              1064812 non-null  string\n",
      " 8   subdivisao_artigo   1064812 non-null  string\n",
      "dtypes: int64(1), object(3), string(5)\n",
      "memory usage: 73.1+ MB\n"
     ]
    }
   ],
   "source": [
    "dft.info()"
   ]
  },
  {
   "cell_type": "code",
   "execution_count": 34,
   "id": "3b8e658b",
   "metadata": {},
   "outputs": [
    {
     "data": {
      "text/plain": [
       "data_infracao         0\n",
       "hora_infracao         0\n",
       "data_implantacao      0\n",
       "agente_equipamento    0\n",
       "cod_infracao          0\n",
       "descricao_infracao    0\n",
       "local_cometimento     0\n",
       "artigo                0\n",
       "subdivisao_artigo     0\n",
       "dtype: int64"
      ]
     },
     "execution_count": 34,
     "metadata": {},
     "output_type": "execute_result"
    }
   ],
   "source": [
    "dft.isna().sum()"
   ]
  },
  {
   "cell_type": "markdown",
   "id": "9504b75a",
   "metadata": {},
   "source": [
    "### Carregamento para o PostgreSQL"
   ]
  },
  {
   "cell_type": "code",
   "execution_count": 76,
   "id": "9aee7f17",
   "metadata": {},
   "outputs": [],
   "source": [
    "import psycopg2 as ps\n",
    "from sqlalchemy import create_engine"
   ]
  },
  {
   "cell_type": "code",
   "execution_count": 77,
   "id": "a5c566f9",
   "metadata": {},
   "outputs": [],
   "source": [
    "# Conexão com o banco de dados\n",
    "conexao = ps.connect(\n",
    "    host=\"localhost\",           # ou 127.0.0.1\n",
    "    database=\"postgres\",            \n",
    "    user=\"postgres\",           \n",
    "    password=\"00001\"            # senha do postgre \n",
    ")"
   ]
  },
  {
   "cell_type": "code",
   "execution_count": 84,
   "id": "6529b875",
   "metadata": {},
   "outputs": [],
   "source": [
    "# Criação do cursor\n",
    "cursor = conexao.cursor()\n",
    "\n",
    "# Criação da tabela\n",
    "comando = '''\n",
    "CREATE TABLE IF NOT EXISTS etl (\n",
    "    id SERIAL PRIMARY KEY,\n",
    "    data_infracao DATE NOT NULL,\n",
    "    hora_infracao TIME NOT NULL,\n",
    "    data_implantacao DATE NOT NULL,\n",
    "    agente_equipamento TEXT NOT NULL,\n",
    "    cod_infracao INTEGER NOT NULL,\n",
    "    descricao_infracao TEXT NOT NULL,\n",
    "    local_cometimento TEXT NOT NULL,\n",
    "    artigo TEXT NOT NULL,\n",
    "    subdivisao_artigo TEXT NOT NULL\n",
    ");\n",
    "'''\n",
    "\n",
    "cursor.execute(comando)\n",
    "conexao.commit()"
   ]
  },
  {
   "cell_type": "code",
   "execution_count": 85,
   "id": "a4468e8c",
   "metadata": {},
   "outputs": [],
   "source": [
    "# Dados do banco\n",
    "usuario = \"postgres\"\n",
    "senha = \"00001\"\n",
    "host = \"localhost\"\n",
    "porta = \"5432\"\n",
    "banco = \"postgres\"\n",
    "\n",
    "# Caminho do CSV\n",
    "csv_path = \"../datasets/dataset_infracoes_final/dataset_infracoes_final.csv\""
   ]
  },
  {
   "cell_type": "code",
   "execution_count": 86,
   "id": "2f79a0d3",
   "metadata": {},
   "outputs": [
    {
     "name": "stderr",
     "output_type": "stream",
     "text": [
      "C:\\Users\\eduar\\AppData\\Local\\Temp\\ipykernel_2816\\832573500.py:4: DtypeWarning: Columns (3) have mixed types. Specify dtype option on import or set low_memory=False.\n",
      "  df = pd.read_csv(\"../datasets/dataset_infracoes_final/dataset_infracoes_final.csv\", sep=';', encoding='latin1')\n"
     ]
    },
    {
     "data": {
      "text/plain": [
       "812"
      ]
     },
     "execution_count": 86,
     "metadata": {},
     "output_type": "execute_result"
    }
   ],
   "source": [
    "# Cria a engine de conexão\n",
    "engine = create_engine(f\"postgresql+psycopg2://{usuario}:{senha}@{host}:{porta}/{banco}\")\n",
    "\n",
    "df = pd.read_csv(\"../datasets/dataset_infracoes_final/dataset_infracoes_final.csv\", sep=';', encoding='latin1')\n",
    "\n",
    "# Insere na tabela\n",
    "dft.to_sql('etl', engine, if_exists='append', index=False)"
   ]
  },
  {
   "cell_type": "code",
   "execution_count": null,
   "id": "9d9a826b",
   "metadata": {},
   "outputs": [],
   "source": [
    "# Drop da tabela\n",
    "cursor.execute('DROP TABLE IF EXISTS etl;')\n",
    "conexao.commit()\n",
    "\n",
    "cursor.close()\n",
    "conexao.close()"
   ]
  }
 ],
 "metadata": {
  "kernelspec": {
   "display_name": "Python 3",
   "language": "python",
   "name": "python3"
  },
  "language_info": {
   "codemirror_mode": {
    "name": "ipython",
    "version": 3
   },
   "file_extension": ".py",
   "mimetype": "text/x-python",
   "name": "python",
   "nbconvert_exporter": "python",
   "pygments_lexer": "ipython3",
   "version": "3.13.0"
  }
 },
 "nbformat": 4,
 "nbformat_minor": 5
}
